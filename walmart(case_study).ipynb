{
  "nbformat": 4,
  "nbformat_minor": 0,
  "metadata": {
    "colab": {
      "provenance": []
    },
    "kernelspec": {
      "name": "python3",
      "display_name": "Python 3"
    },
    "language_info": {
      "name": "python"
    }
  },
  "cells": [
    {
      "cell_type": "code",
      "source": [
        "import numpy as np\n",
        "import pandas as pd\n",
        "import matplotlib.pyplot as plt\n",
        "import seaborn as sns\n",
        "from scipy.stats import norm"
      ],
      "metadata": {
        "id": "j-7mgY4eCZRn"
      },
      "execution_count": 5,
      "outputs": []
    },
    {
      "cell_type": "code",
      "source": [
        "df=pd.read_csv('walmart_data.csv')\n",
        "df.head()"
      ],
      "metadata": {
        "colab": {
          "base_uri": "https://localhost:8080/",
          "height": 339
        },
        "id": "Z4PQBo5ODE0s",
        "outputId": "63c46b2a-5222-456d-9dd0-c15212dadce5"
      },
      "execution_count": 156,
      "outputs": [
        {
          "output_type": "execute_result",
          "data": {
            "text/plain": [
              "   User_ID Product_ID Gender   Age  Occupation City_Category  \\\n",
              "0  1000001  P00069042      F  0-17          10             A   \n",
              "1  1000001  P00248942      F  0-17          10             A   \n",
              "2  1000001  P00087842      F  0-17          10             A   \n",
              "3  1000001  P00085442      F  0-17          10             A   \n",
              "4  1000002  P00285442      M   55+          16             C   \n",
              "\n",
              "  Stay_In_Current_City_Years  Marital_Status  Product_Category  Purchase  \n",
              "0                          2               0                 3      8370  \n",
              "1                          2               0                 1     15200  \n",
              "2                          2               0                12      1422  \n",
              "3                          2               0                12      1057  \n",
              "4                         4+               0                 8      7969  "
            ],
            "text/html": [
              "\n",
              "\n",
              "  <div id=\"df-a684b260-e214-42a7-85ea-05e1dcb6223c\">\n",
              "    <div class=\"colab-df-container\">\n",
              "      <div>\n",
              "<style scoped>\n",
              "    .dataframe tbody tr th:only-of-type {\n",
              "        vertical-align: middle;\n",
              "    }\n",
              "\n",
              "    .dataframe tbody tr th {\n",
              "        vertical-align: top;\n",
              "    }\n",
              "\n",
              "    .dataframe thead th {\n",
              "        text-align: right;\n",
              "    }\n",
              "</style>\n",
              "<table border=\"1\" class=\"dataframe\">\n",
              "  <thead>\n",
              "    <tr style=\"text-align: right;\">\n",
              "      <th></th>\n",
              "      <th>User_ID</th>\n",
              "      <th>Product_ID</th>\n",
              "      <th>Gender</th>\n",
              "      <th>Age</th>\n",
              "      <th>Occupation</th>\n",
              "      <th>City_Category</th>\n",
              "      <th>Stay_In_Current_City_Years</th>\n",
              "      <th>Marital_Status</th>\n",
              "      <th>Product_Category</th>\n",
              "      <th>Purchase</th>\n",
              "    </tr>\n",
              "  </thead>\n",
              "  <tbody>\n",
              "    <tr>\n",
              "      <th>0</th>\n",
              "      <td>1000001</td>\n",
              "      <td>P00069042</td>\n",
              "      <td>F</td>\n",
              "      <td>0-17</td>\n",
              "      <td>10</td>\n",
              "      <td>A</td>\n",
              "      <td>2</td>\n",
              "      <td>0</td>\n",
              "      <td>3</td>\n",
              "      <td>8370</td>\n",
              "    </tr>\n",
              "    <tr>\n",
              "      <th>1</th>\n",
              "      <td>1000001</td>\n",
              "      <td>P00248942</td>\n",
              "      <td>F</td>\n",
              "      <td>0-17</td>\n",
              "      <td>10</td>\n",
              "      <td>A</td>\n",
              "      <td>2</td>\n",
              "      <td>0</td>\n",
              "      <td>1</td>\n",
              "      <td>15200</td>\n",
              "    </tr>\n",
              "    <tr>\n",
              "      <th>2</th>\n",
              "      <td>1000001</td>\n",
              "      <td>P00087842</td>\n",
              "      <td>F</td>\n",
              "      <td>0-17</td>\n",
              "      <td>10</td>\n",
              "      <td>A</td>\n",
              "      <td>2</td>\n",
              "      <td>0</td>\n",
              "      <td>12</td>\n",
              "      <td>1422</td>\n",
              "    </tr>\n",
              "    <tr>\n",
              "      <th>3</th>\n",
              "      <td>1000001</td>\n",
              "      <td>P00085442</td>\n",
              "      <td>F</td>\n",
              "      <td>0-17</td>\n",
              "      <td>10</td>\n",
              "      <td>A</td>\n",
              "      <td>2</td>\n",
              "      <td>0</td>\n",
              "      <td>12</td>\n",
              "      <td>1057</td>\n",
              "    </tr>\n",
              "    <tr>\n",
              "      <th>4</th>\n",
              "      <td>1000002</td>\n",
              "      <td>P00285442</td>\n",
              "      <td>M</td>\n",
              "      <td>55+</td>\n",
              "      <td>16</td>\n",
              "      <td>C</td>\n",
              "      <td>4+</td>\n",
              "      <td>0</td>\n",
              "      <td>8</td>\n",
              "      <td>7969</td>\n",
              "    </tr>\n",
              "  </tbody>\n",
              "</table>\n",
              "</div>\n",
              "      <button class=\"colab-df-convert\" onclick=\"convertToInteractive('df-a684b260-e214-42a7-85ea-05e1dcb6223c')\"\n",
              "              title=\"Convert this dataframe to an interactive table.\"\n",
              "              style=\"display:none;\">\n",
              "\n",
              "  <svg xmlns=\"http://www.w3.org/2000/svg\" height=\"24px\"viewBox=\"0 0 24 24\"\n",
              "       width=\"24px\">\n",
              "    <path d=\"M0 0h24v24H0V0z\" fill=\"none\"/>\n",
              "    <path d=\"M18.56 5.44l.94 2.06.94-2.06 2.06-.94-2.06-.94-.94-2.06-.94 2.06-2.06.94zm-11 1L8.5 8.5l.94-2.06 2.06-.94-2.06-.94L8.5 2.5l-.94 2.06-2.06.94zm10 10l.94 2.06.94-2.06 2.06-.94-2.06-.94-.94-2.06-.94 2.06-2.06.94z\"/><path d=\"M17.41 7.96l-1.37-1.37c-.4-.4-.92-.59-1.43-.59-.52 0-1.04.2-1.43.59L10.3 9.45l-7.72 7.72c-.78.78-.78 2.05 0 2.83L4 21.41c.39.39.9.59 1.41.59.51 0 1.02-.2 1.41-.59l7.78-7.78 2.81-2.81c.8-.78.8-2.07 0-2.86zM5.41 20L4 18.59l7.72-7.72 1.47 1.35L5.41 20z\"/>\n",
              "  </svg>\n",
              "      </button>\n",
              "\n",
              "\n",
              "\n",
              "    <div id=\"df-e853f1ec-8ff1-46b3-a499-8dfb4b1325da\">\n",
              "      <button class=\"colab-df-quickchart\" onclick=\"quickchart('df-e853f1ec-8ff1-46b3-a499-8dfb4b1325da')\"\n",
              "              title=\"Suggest charts.\"\n",
              "              style=\"display:none;\">\n",
              "\n",
              "<svg xmlns=\"http://www.w3.org/2000/svg\" height=\"24px\"viewBox=\"0 0 24 24\"\n",
              "     width=\"24px\">\n",
              "    <g>\n",
              "        <path d=\"M19 3H5c-1.1 0-2 .9-2 2v14c0 1.1.9 2 2 2h14c1.1 0 2-.9 2-2V5c0-1.1-.9-2-2-2zM9 17H7v-7h2v7zm4 0h-2V7h2v10zm4 0h-2v-4h2v4z\"/>\n",
              "    </g>\n",
              "</svg>\n",
              "      </button>\n",
              "    </div>\n",
              "\n",
              "<style>\n",
              "  .colab-df-quickchart {\n",
              "    background-color: #E8F0FE;\n",
              "    border: none;\n",
              "    border-radius: 50%;\n",
              "    cursor: pointer;\n",
              "    display: none;\n",
              "    fill: #1967D2;\n",
              "    height: 32px;\n",
              "    padding: 0 0 0 0;\n",
              "    width: 32px;\n",
              "  }\n",
              "\n",
              "  .colab-df-quickchart:hover {\n",
              "    background-color: #E2EBFA;\n",
              "    box-shadow: 0px 1px 2px rgba(60, 64, 67, 0.3), 0px 1px 3px 1px rgba(60, 64, 67, 0.15);\n",
              "    fill: #174EA6;\n",
              "  }\n",
              "\n",
              "  [theme=dark] .colab-df-quickchart {\n",
              "    background-color: #3B4455;\n",
              "    fill: #D2E3FC;\n",
              "  }\n",
              "\n",
              "  [theme=dark] .colab-df-quickchart:hover {\n",
              "    background-color: #434B5C;\n",
              "    box-shadow: 0px 1px 3px 1px rgba(0, 0, 0, 0.15);\n",
              "    filter: drop-shadow(0px 1px 2px rgba(0, 0, 0, 0.3));\n",
              "    fill: #FFFFFF;\n",
              "  }\n",
              "</style>\n",
              "\n",
              "    <script>\n",
              "      async function quickchart(key) {\n",
              "        const containerElement = document.querySelector('#' + key);\n",
              "        const charts = await google.colab.kernel.invokeFunction(\n",
              "            'suggestCharts', [key], {});\n",
              "      }\n",
              "    </script>\n",
              "\n",
              "      <script>\n",
              "\n",
              "function displayQuickchartButton(domScope) {\n",
              "  let quickchartButtonEl =\n",
              "    domScope.querySelector('#df-e853f1ec-8ff1-46b3-a499-8dfb4b1325da button.colab-df-quickchart');\n",
              "  quickchartButtonEl.style.display =\n",
              "    google.colab.kernel.accessAllowed ? 'block' : 'none';\n",
              "}\n",
              "\n",
              "        displayQuickchartButton(document);\n",
              "      </script>\n",
              "      <style>\n",
              "    .colab-df-container {\n",
              "      display:flex;\n",
              "      flex-wrap:wrap;\n",
              "      gap: 12px;\n",
              "    }\n",
              "\n",
              "    .colab-df-convert {\n",
              "      background-color: #E8F0FE;\n",
              "      border: none;\n",
              "      border-radius: 50%;\n",
              "      cursor: pointer;\n",
              "      display: none;\n",
              "      fill: #1967D2;\n",
              "      height: 32px;\n",
              "      padding: 0 0 0 0;\n",
              "      width: 32px;\n",
              "    }\n",
              "\n",
              "    .colab-df-convert:hover {\n",
              "      background-color: #E2EBFA;\n",
              "      box-shadow: 0px 1px 2px rgba(60, 64, 67, 0.3), 0px 1px 3px 1px rgba(60, 64, 67, 0.15);\n",
              "      fill: #174EA6;\n",
              "    }\n",
              "\n",
              "    [theme=dark] .colab-df-convert {\n",
              "      background-color: #3B4455;\n",
              "      fill: #D2E3FC;\n",
              "    }\n",
              "\n",
              "    [theme=dark] .colab-df-convert:hover {\n",
              "      background-color: #434B5C;\n",
              "      box-shadow: 0px 1px 3px 1px rgba(0, 0, 0, 0.15);\n",
              "      filter: drop-shadow(0px 1px 2px rgba(0, 0, 0, 0.3));\n",
              "      fill: #FFFFFF;\n",
              "    }\n",
              "  </style>\n",
              "\n",
              "      <script>\n",
              "        const buttonEl =\n",
              "          document.querySelector('#df-a684b260-e214-42a7-85ea-05e1dcb6223c button.colab-df-convert');\n",
              "        buttonEl.style.display =\n",
              "          google.colab.kernel.accessAllowed ? 'block' : 'none';\n",
              "\n",
              "        async function convertToInteractive(key) {\n",
              "          const element = document.querySelector('#df-a684b260-e214-42a7-85ea-05e1dcb6223c');\n",
              "          const dataTable =\n",
              "            await google.colab.kernel.invokeFunction('convertToInteractive',\n",
              "                                                     [key], {});\n",
              "          if (!dataTable) return;\n",
              "\n",
              "          const docLinkHtml = 'Like what you see? Visit the ' +\n",
              "            '<a target=\"_blank\" href=https://colab.research.google.com/notebooks/data_table.ipynb>data table notebook</a>'\n",
              "            + ' to learn more about interactive tables.';\n",
              "          element.innerHTML = '';\n",
              "          dataTable['output_type'] = 'display_data';\n",
              "          await google.colab.output.renderOutput(dataTable, element);\n",
              "          const docLink = document.createElement('div');\n",
              "          docLink.innerHTML = docLinkHtml;\n",
              "          element.appendChild(docLink);\n",
              "        }\n",
              "      </script>\n",
              "    </div>\n",
              "  </div>\n"
            ]
          },
          "metadata": {},
          "execution_count": 156
        }
      ]
    },
    {
      "cell_type": "code",
      "source": [
        "#getting the shape of the data\n",
        "df.shape"
      ],
      "metadata": {
        "colab": {
          "base_uri": "https://localhost:8080/"
        },
        "id": "qBYBOSqWDbV8",
        "outputId": "c4862f29-12a5-4470-974d-cce344149b52"
      },
      "execution_count": null,
      "outputs": [
        {
          "output_type": "execute_result",
          "data": {
            "text/plain": [
              "(550068, 10)"
            ]
          },
          "metadata": {},
          "execution_count": 5
        }
      ]
    },
    {
      "cell_type": "code",
      "source": [
        "#checking for  null values and the columns we have\n",
        "df.info()"
      ],
      "metadata": {
        "colab": {
          "base_uri": "https://localhost:8080/",
          "height": 0
        },
        "id": "73zelb90EJB0",
        "outputId": "b162a2ae-1621-4d50-d113-b80be1e7eed6"
      },
      "execution_count": 157,
      "outputs": [
        {
          "output_type": "stream",
          "name": "stdout",
          "text": [
            "<class 'pandas.core.frame.DataFrame'>\n",
            "RangeIndex: 550068 entries, 0 to 550067\n",
            "Data columns (total 10 columns):\n",
            " #   Column                      Non-Null Count   Dtype \n",
            "---  ------                      --------------   ----- \n",
            " 0   User_ID                     550068 non-null  int64 \n",
            " 1   Product_ID                  550068 non-null  object\n",
            " 2   Gender                      550068 non-null  object\n",
            " 3   Age                         550068 non-null  object\n",
            " 4   Occupation                  550068 non-null  int64 \n",
            " 5   City_Category               550068 non-null  object\n",
            " 6   Stay_In_Current_City_Years  550068 non-null  object\n",
            " 7   Marital_Status              550068 non-null  int64 \n",
            " 8   Product_Category            550068 non-null  int64 \n",
            " 9   Purchase                    550068 non-null  int64 \n",
            "dtypes: int64(5), object(5)\n",
            "memory usage: 42.0+ MB\n"
          ]
        }
      ]
    },
    {
      "cell_type": "markdown",
      "source": [
        "#changing numerical to categorical data"
      ],
      "metadata": {
        "id": "n-r7cr1b0-OV"
      }
    },
    {
      "cell_type": "code",
      "source": [
        "df[['Occupation','Marital_Status','Product_Category']]=df[['Occupation','Marital_Status','Product_Category']].astype('str')\n",
        "df.info()"
      ],
      "metadata": {
        "colab": {
          "base_uri": "https://localhost:8080/",
          "height": 0
        },
        "id": "j1GO8xn71Cqp",
        "outputId": "282a15fa-9f5d-4d4e-a64e-aa3214fdbe01"
      },
      "execution_count": 158,
      "outputs": [
        {
          "output_type": "stream",
          "name": "stdout",
          "text": [
            "<class 'pandas.core.frame.DataFrame'>\n",
            "RangeIndex: 550068 entries, 0 to 550067\n",
            "Data columns (total 10 columns):\n",
            " #   Column                      Non-Null Count   Dtype \n",
            "---  ------                      --------------   ----- \n",
            " 0   User_ID                     550068 non-null  int64 \n",
            " 1   Product_ID                  550068 non-null  object\n",
            " 2   Gender                      550068 non-null  object\n",
            " 3   Age                         550068 non-null  object\n",
            " 4   Occupation                  550068 non-null  object\n",
            " 5   City_Category               550068 non-null  object\n",
            " 6   Stay_In_Current_City_Years  550068 non-null  object\n",
            " 7   Marital_Status              550068 non-null  object\n",
            " 8   Product_Category            550068 non-null  object\n",
            " 9   Purchase                    550068 non-null  int64 \n",
            "dtypes: int64(2), object(8)\n",
            "memory usage: 42.0+ MB\n"
          ]
        }
      ]
    },
    {
      "cell_type": "markdown",
      "source": [],
      "metadata": {
        "id": "A2Pt1asN0-K8"
      }
    },
    {
      "cell_type": "markdown",
      "source": [
        "**so here no null values..."
      ],
      "metadata": {
        "id": "Uy4H6Jg2OEAi"
      }
    },
    {
      "cell_type": "code",
      "source": [
        "#describing the data\n",
        "df.describe()"
      ],
      "metadata": {
        "colab": {
          "base_uri": "https://localhost:8080/",
          "height": 300
        },
        "id": "zEUTUwWDFB0T",
        "outputId": "a9685e15-d516-404a-dff3-e0cc6172719c"
      },
      "execution_count": 126,
      "outputs": [
        {
          "output_type": "execute_result",
          "data": {
            "text/plain": [
              "            User_ID       Purchase\n",
              "count  5.500680e+05  550068.000000\n",
              "mean   1.003029e+06    9263.968713\n",
              "std    1.727592e+03    5023.065394\n",
              "min    1.000001e+06      12.000000\n",
              "25%    1.001516e+06    5823.000000\n",
              "50%    1.003077e+06    8047.000000\n",
              "75%    1.004478e+06   12054.000000\n",
              "max    1.006040e+06   23961.000000"
            ],
            "text/html": [
              "\n",
              "\n",
              "  <div id=\"df-c5b2ea8f-c4df-4c70-93cb-011094913c2c\">\n",
              "    <div class=\"colab-df-container\">\n",
              "      <div>\n",
              "<style scoped>\n",
              "    .dataframe tbody tr th:only-of-type {\n",
              "        vertical-align: middle;\n",
              "    }\n",
              "\n",
              "    .dataframe tbody tr th {\n",
              "        vertical-align: top;\n",
              "    }\n",
              "\n",
              "    .dataframe thead th {\n",
              "        text-align: right;\n",
              "    }\n",
              "</style>\n",
              "<table border=\"1\" class=\"dataframe\">\n",
              "  <thead>\n",
              "    <tr style=\"text-align: right;\">\n",
              "      <th></th>\n",
              "      <th>User_ID</th>\n",
              "      <th>Purchase</th>\n",
              "    </tr>\n",
              "  </thead>\n",
              "  <tbody>\n",
              "    <tr>\n",
              "      <th>count</th>\n",
              "      <td>5.500680e+05</td>\n",
              "      <td>550068.000000</td>\n",
              "    </tr>\n",
              "    <tr>\n",
              "      <th>mean</th>\n",
              "      <td>1.003029e+06</td>\n",
              "      <td>9263.968713</td>\n",
              "    </tr>\n",
              "    <tr>\n",
              "      <th>std</th>\n",
              "      <td>1.727592e+03</td>\n",
              "      <td>5023.065394</td>\n",
              "    </tr>\n",
              "    <tr>\n",
              "      <th>min</th>\n",
              "      <td>1.000001e+06</td>\n",
              "      <td>12.000000</td>\n",
              "    </tr>\n",
              "    <tr>\n",
              "      <th>25%</th>\n",
              "      <td>1.001516e+06</td>\n",
              "      <td>5823.000000</td>\n",
              "    </tr>\n",
              "    <tr>\n",
              "      <th>50%</th>\n",
              "      <td>1.003077e+06</td>\n",
              "      <td>8047.000000</td>\n",
              "    </tr>\n",
              "    <tr>\n",
              "      <th>75%</th>\n",
              "      <td>1.004478e+06</td>\n",
              "      <td>12054.000000</td>\n",
              "    </tr>\n",
              "    <tr>\n",
              "      <th>max</th>\n",
              "      <td>1.006040e+06</td>\n",
              "      <td>23961.000000</td>\n",
              "    </tr>\n",
              "  </tbody>\n",
              "</table>\n",
              "</div>\n",
              "      <button class=\"colab-df-convert\" onclick=\"convertToInteractive('df-c5b2ea8f-c4df-4c70-93cb-011094913c2c')\"\n",
              "              title=\"Convert this dataframe to an interactive table.\"\n",
              "              style=\"display:none;\">\n",
              "\n",
              "  <svg xmlns=\"http://www.w3.org/2000/svg\" height=\"24px\"viewBox=\"0 0 24 24\"\n",
              "       width=\"24px\">\n",
              "    <path d=\"M0 0h24v24H0V0z\" fill=\"none\"/>\n",
              "    <path d=\"M18.56 5.44l.94 2.06.94-2.06 2.06-.94-2.06-.94-.94-2.06-.94 2.06-2.06.94zm-11 1L8.5 8.5l.94-2.06 2.06-.94-2.06-.94L8.5 2.5l-.94 2.06-2.06.94zm10 10l.94 2.06.94-2.06 2.06-.94-2.06-.94-.94-2.06-.94 2.06-2.06.94z\"/><path d=\"M17.41 7.96l-1.37-1.37c-.4-.4-.92-.59-1.43-.59-.52 0-1.04.2-1.43.59L10.3 9.45l-7.72 7.72c-.78.78-.78 2.05 0 2.83L4 21.41c.39.39.9.59 1.41.59.51 0 1.02-.2 1.41-.59l7.78-7.78 2.81-2.81c.8-.78.8-2.07 0-2.86zM5.41 20L4 18.59l7.72-7.72 1.47 1.35L5.41 20z\"/>\n",
              "  </svg>\n",
              "      </button>\n",
              "\n",
              "\n",
              "\n",
              "    <div id=\"df-9a3ce861-1574-4e5c-9b11-c8b24a7aaca9\">\n",
              "      <button class=\"colab-df-quickchart\" onclick=\"quickchart('df-9a3ce861-1574-4e5c-9b11-c8b24a7aaca9')\"\n",
              "              title=\"Suggest charts.\"\n",
              "              style=\"display:none;\">\n",
              "\n",
              "<svg xmlns=\"http://www.w3.org/2000/svg\" height=\"24px\"viewBox=\"0 0 24 24\"\n",
              "     width=\"24px\">\n",
              "    <g>\n",
              "        <path d=\"M19 3H5c-1.1 0-2 .9-2 2v14c0 1.1.9 2 2 2h14c1.1 0 2-.9 2-2V5c0-1.1-.9-2-2-2zM9 17H7v-7h2v7zm4 0h-2V7h2v10zm4 0h-2v-4h2v4z\"/>\n",
              "    </g>\n",
              "</svg>\n",
              "      </button>\n",
              "    </div>\n",
              "\n",
              "<style>\n",
              "  .colab-df-quickchart {\n",
              "    background-color: #E8F0FE;\n",
              "    border: none;\n",
              "    border-radius: 50%;\n",
              "    cursor: pointer;\n",
              "    display: none;\n",
              "    fill: #1967D2;\n",
              "    height: 32px;\n",
              "    padding: 0 0 0 0;\n",
              "    width: 32px;\n",
              "  }\n",
              "\n",
              "  .colab-df-quickchart:hover {\n",
              "    background-color: #E2EBFA;\n",
              "    box-shadow: 0px 1px 2px rgba(60, 64, 67, 0.3), 0px 1px 3px 1px rgba(60, 64, 67, 0.15);\n",
              "    fill: #174EA6;\n",
              "  }\n",
              "\n",
              "  [theme=dark] .colab-df-quickchart {\n",
              "    background-color: #3B4455;\n",
              "    fill: #D2E3FC;\n",
              "  }\n",
              "\n",
              "  [theme=dark] .colab-df-quickchart:hover {\n",
              "    background-color: #434B5C;\n",
              "    box-shadow: 0px 1px 3px 1px rgba(0, 0, 0, 0.15);\n",
              "    filter: drop-shadow(0px 1px 2px rgba(0, 0, 0, 0.3));\n",
              "    fill: #FFFFFF;\n",
              "  }\n",
              "</style>\n",
              "\n",
              "    <script>\n",
              "      async function quickchart(key) {\n",
              "        const containerElement = document.querySelector('#' + key);\n",
              "        const charts = await google.colab.kernel.invokeFunction(\n",
              "            'suggestCharts', [key], {});\n",
              "      }\n",
              "    </script>\n",
              "\n",
              "      <script>\n",
              "\n",
              "function displayQuickchartButton(domScope) {\n",
              "  let quickchartButtonEl =\n",
              "    domScope.querySelector('#df-9a3ce861-1574-4e5c-9b11-c8b24a7aaca9 button.colab-df-quickchart');\n",
              "  quickchartButtonEl.style.display =\n",
              "    google.colab.kernel.accessAllowed ? 'block' : 'none';\n",
              "}\n",
              "\n",
              "        displayQuickchartButton(document);\n",
              "      </script>\n",
              "      <style>\n",
              "    .colab-df-container {\n",
              "      display:flex;\n",
              "      flex-wrap:wrap;\n",
              "      gap: 12px;\n",
              "    }\n",
              "\n",
              "    .colab-df-convert {\n",
              "      background-color: #E8F0FE;\n",
              "      border: none;\n",
              "      border-radius: 50%;\n",
              "      cursor: pointer;\n",
              "      display: none;\n",
              "      fill: #1967D2;\n",
              "      height: 32px;\n",
              "      padding: 0 0 0 0;\n",
              "      width: 32px;\n",
              "    }\n",
              "\n",
              "    .colab-df-convert:hover {\n",
              "      background-color: #E2EBFA;\n",
              "      box-shadow: 0px 1px 2px rgba(60, 64, 67, 0.3), 0px 1px 3px 1px rgba(60, 64, 67, 0.15);\n",
              "      fill: #174EA6;\n",
              "    }\n",
              "\n",
              "    [theme=dark] .colab-df-convert {\n",
              "      background-color: #3B4455;\n",
              "      fill: #D2E3FC;\n",
              "    }\n",
              "\n",
              "    [theme=dark] .colab-df-convert:hover {\n",
              "      background-color: #434B5C;\n",
              "      box-shadow: 0px 1px 3px 1px rgba(0, 0, 0, 0.15);\n",
              "      filter: drop-shadow(0px 1px 2px rgba(0, 0, 0, 0.3));\n",
              "      fill: #FFFFFF;\n",
              "    }\n",
              "  </style>\n",
              "\n",
              "      <script>\n",
              "        const buttonEl =\n",
              "          document.querySelector('#df-c5b2ea8f-c4df-4c70-93cb-011094913c2c button.colab-df-convert');\n",
              "        buttonEl.style.display =\n",
              "          google.colab.kernel.accessAllowed ? 'block' : 'none';\n",
              "\n",
              "        async function convertToInteractive(key) {\n",
              "          const element = document.querySelector('#df-c5b2ea8f-c4df-4c70-93cb-011094913c2c');\n",
              "          const dataTable =\n",
              "            await google.colab.kernel.invokeFunction('convertToInteractive',\n",
              "                                                     [key], {});\n",
              "          if (!dataTable) return;\n",
              "\n",
              "          const docLinkHtml = 'Like what you see? Visit the ' +\n",
              "            '<a target=\"_blank\" href=https://colab.research.google.com/notebooks/data_table.ipynb>data table notebook</a>'\n",
              "            + ' to learn more about interactive tables.';\n",
              "          element.innerHTML = '';\n",
              "          dataTable['output_type'] = 'display_data';\n",
              "          await google.colab.output.renderOutput(dataTable, element);\n",
              "          const docLink = document.createElement('div');\n",
              "          docLink.innerHTML = docLinkHtml;\n",
              "          element.appendChild(docLink);\n",
              "        }\n",
              "      </script>\n",
              "    </div>\n",
              "  </div>\n"
            ]
          },
          "metadata": {},
          "execution_count": 126
        }
      ]
    },
    {
      "cell_type": "code",
      "source": [
        "df.head()"
      ],
      "metadata": {
        "id": "jzeI3jnG6FvW",
        "colab": {
          "base_uri": "https://localhost:8080/",
          "height": 339
        },
        "outputId": "5799d4cf-1f0a-4a4f-c829-bbb6c0cf533a"
      },
      "execution_count": 127,
      "outputs": [
        {
          "output_type": "execute_result",
          "data": {
            "text/plain": [
              "   User_ID Product_ID Gender   Age Occupation City_Category  \\\n",
              "0  1000001  P00069042      F  0-17         10             A   \n",
              "1  1000001  P00248942      F  0-17         10             A   \n",
              "2  1000001  P00087842      F  0-17         10             A   \n",
              "3  1000001  P00085442      F  0-17         10             A   \n",
              "4  1000002  P00285442      M   55+         16             C   \n",
              "\n",
              "  Stay_In_Current_City_Years Marital_Status Product_Category  Purchase  \n",
              "0                          2              0                3      8370  \n",
              "1                          2              0                1     15200  \n",
              "2                          2              0               12      1422  \n",
              "3                          2              0               12      1057  \n",
              "4                         4+              0                8      7969  "
            ],
            "text/html": [
              "\n",
              "\n",
              "  <div id=\"df-400bb010-e7ce-463b-9244-bea5de6396ae\">\n",
              "    <div class=\"colab-df-container\">\n",
              "      <div>\n",
              "<style scoped>\n",
              "    .dataframe tbody tr th:only-of-type {\n",
              "        vertical-align: middle;\n",
              "    }\n",
              "\n",
              "    .dataframe tbody tr th {\n",
              "        vertical-align: top;\n",
              "    }\n",
              "\n",
              "    .dataframe thead th {\n",
              "        text-align: right;\n",
              "    }\n",
              "</style>\n",
              "<table border=\"1\" class=\"dataframe\">\n",
              "  <thead>\n",
              "    <tr style=\"text-align: right;\">\n",
              "      <th></th>\n",
              "      <th>User_ID</th>\n",
              "      <th>Product_ID</th>\n",
              "      <th>Gender</th>\n",
              "      <th>Age</th>\n",
              "      <th>Occupation</th>\n",
              "      <th>City_Category</th>\n",
              "      <th>Stay_In_Current_City_Years</th>\n",
              "      <th>Marital_Status</th>\n",
              "      <th>Product_Category</th>\n",
              "      <th>Purchase</th>\n",
              "    </tr>\n",
              "  </thead>\n",
              "  <tbody>\n",
              "    <tr>\n",
              "      <th>0</th>\n",
              "      <td>1000001</td>\n",
              "      <td>P00069042</td>\n",
              "      <td>F</td>\n",
              "      <td>0-17</td>\n",
              "      <td>10</td>\n",
              "      <td>A</td>\n",
              "      <td>2</td>\n",
              "      <td>0</td>\n",
              "      <td>3</td>\n",
              "      <td>8370</td>\n",
              "    </tr>\n",
              "    <tr>\n",
              "      <th>1</th>\n",
              "      <td>1000001</td>\n",
              "      <td>P00248942</td>\n",
              "      <td>F</td>\n",
              "      <td>0-17</td>\n",
              "      <td>10</td>\n",
              "      <td>A</td>\n",
              "      <td>2</td>\n",
              "      <td>0</td>\n",
              "      <td>1</td>\n",
              "      <td>15200</td>\n",
              "    </tr>\n",
              "    <tr>\n",
              "      <th>2</th>\n",
              "      <td>1000001</td>\n",
              "      <td>P00087842</td>\n",
              "      <td>F</td>\n",
              "      <td>0-17</td>\n",
              "      <td>10</td>\n",
              "      <td>A</td>\n",
              "      <td>2</td>\n",
              "      <td>0</td>\n",
              "      <td>12</td>\n",
              "      <td>1422</td>\n",
              "    </tr>\n",
              "    <tr>\n",
              "      <th>3</th>\n",
              "      <td>1000001</td>\n",
              "      <td>P00085442</td>\n",
              "      <td>F</td>\n",
              "      <td>0-17</td>\n",
              "      <td>10</td>\n",
              "      <td>A</td>\n",
              "      <td>2</td>\n",
              "      <td>0</td>\n",
              "      <td>12</td>\n",
              "      <td>1057</td>\n",
              "    </tr>\n",
              "    <tr>\n",
              "      <th>4</th>\n",
              "      <td>1000002</td>\n",
              "      <td>P00285442</td>\n",
              "      <td>M</td>\n",
              "      <td>55+</td>\n",
              "      <td>16</td>\n",
              "      <td>C</td>\n",
              "      <td>4+</td>\n",
              "      <td>0</td>\n",
              "      <td>8</td>\n",
              "      <td>7969</td>\n",
              "    </tr>\n",
              "  </tbody>\n",
              "</table>\n",
              "</div>\n",
              "      <button class=\"colab-df-convert\" onclick=\"convertToInteractive('df-400bb010-e7ce-463b-9244-bea5de6396ae')\"\n",
              "              title=\"Convert this dataframe to an interactive table.\"\n",
              "              style=\"display:none;\">\n",
              "\n",
              "  <svg xmlns=\"http://www.w3.org/2000/svg\" height=\"24px\"viewBox=\"0 0 24 24\"\n",
              "       width=\"24px\">\n",
              "    <path d=\"M0 0h24v24H0V0z\" fill=\"none\"/>\n",
              "    <path d=\"M18.56 5.44l.94 2.06.94-2.06 2.06-.94-2.06-.94-.94-2.06-.94 2.06-2.06.94zm-11 1L8.5 8.5l.94-2.06 2.06-.94-2.06-.94L8.5 2.5l-.94 2.06-2.06.94zm10 10l.94 2.06.94-2.06 2.06-.94-2.06-.94-.94-2.06-.94 2.06-2.06.94z\"/><path d=\"M17.41 7.96l-1.37-1.37c-.4-.4-.92-.59-1.43-.59-.52 0-1.04.2-1.43.59L10.3 9.45l-7.72 7.72c-.78.78-.78 2.05 0 2.83L4 21.41c.39.39.9.59 1.41.59.51 0 1.02-.2 1.41-.59l7.78-7.78 2.81-2.81c.8-.78.8-2.07 0-2.86zM5.41 20L4 18.59l7.72-7.72 1.47 1.35L5.41 20z\"/>\n",
              "  </svg>\n",
              "      </button>\n",
              "\n",
              "\n",
              "\n",
              "    <div id=\"df-45aa522a-6a58-4d6a-a304-9dd96cc87846\">\n",
              "      <button class=\"colab-df-quickchart\" onclick=\"quickchart('df-45aa522a-6a58-4d6a-a304-9dd96cc87846')\"\n",
              "              title=\"Suggest charts.\"\n",
              "              style=\"display:none;\">\n",
              "\n",
              "<svg xmlns=\"http://www.w3.org/2000/svg\" height=\"24px\"viewBox=\"0 0 24 24\"\n",
              "     width=\"24px\">\n",
              "    <g>\n",
              "        <path d=\"M19 3H5c-1.1 0-2 .9-2 2v14c0 1.1.9 2 2 2h14c1.1 0 2-.9 2-2V5c0-1.1-.9-2-2-2zM9 17H7v-7h2v7zm4 0h-2V7h2v10zm4 0h-2v-4h2v4z\"/>\n",
              "    </g>\n",
              "</svg>\n",
              "      </button>\n",
              "    </div>\n",
              "\n",
              "<style>\n",
              "  .colab-df-quickchart {\n",
              "    background-color: #E8F0FE;\n",
              "    border: none;\n",
              "    border-radius: 50%;\n",
              "    cursor: pointer;\n",
              "    display: none;\n",
              "    fill: #1967D2;\n",
              "    height: 32px;\n",
              "    padding: 0 0 0 0;\n",
              "    width: 32px;\n",
              "  }\n",
              "\n",
              "  .colab-df-quickchart:hover {\n",
              "    background-color: #E2EBFA;\n",
              "    box-shadow: 0px 1px 2px rgba(60, 64, 67, 0.3), 0px 1px 3px 1px rgba(60, 64, 67, 0.15);\n",
              "    fill: #174EA6;\n",
              "  }\n",
              "\n",
              "  [theme=dark] .colab-df-quickchart {\n",
              "    background-color: #3B4455;\n",
              "    fill: #D2E3FC;\n",
              "  }\n",
              "\n",
              "  [theme=dark] .colab-df-quickchart:hover {\n",
              "    background-color: #434B5C;\n",
              "    box-shadow: 0px 1px 3px 1px rgba(0, 0, 0, 0.15);\n",
              "    filter: drop-shadow(0px 1px 2px rgba(0, 0, 0, 0.3));\n",
              "    fill: #FFFFFF;\n",
              "  }\n",
              "</style>\n",
              "\n",
              "    <script>\n",
              "      async function quickchart(key) {\n",
              "        const containerElement = document.querySelector('#' + key);\n",
              "        const charts = await google.colab.kernel.invokeFunction(\n",
              "            'suggestCharts', [key], {});\n",
              "      }\n",
              "    </script>\n",
              "\n",
              "      <script>\n",
              "\n",
              "function displayQuickchartButton(domScope) {\n",
              "  let quickchartButtonEl =\n",
              "    domScope.querySelector('#df-45aa522a-6a58-4d6a-a304-9dd96cc87846 button.colab-df-quickchart');\n",
              "  quickchartButtonEl.style.display =\n",
              "    google.colab.kernel.accessAllowed ? 'block' : 'none';\n",
              "}\n",
              "\n",
              "        displayQuickchartButton(document);\n",
              "      </script>\n",
              "      <style>\n",
              "    .colab-df-container {\n",
              "      display:flex;\n",
              "      flex-wrap:wrap;\n",
              "      gap: 12px;\n",
              "    }\n",
              "\n",
              "    .colab-df-convert {\n",
              "      background-color: #E8F0FE;\n",
              "      border: none;\n",
              "      border-radius: 50%;\n",
              "      cursor: pointer;\n",
              "      display: none;\n",
              "      fill: #1967D2;\n",
              "      height: 32px;\n",
              "      padding: 0 0 0 0;\n",
              "      width: 32px;\n",
              "    }\n",
              "\n",
              "    .colab-df-convert:hover {\n",
              "      background-color: #E2EBFA;\n",
              "      box-shadow: 0px 1px 2px rgba(60, 64, 67, 0.3), 0px 1px 3px 1px rgba(60, 64, 67, 0.15);\n",
              "      fill: #174EA6;\n",
              "    }\n",
              "\n",
              "    [theme=dark] .colab-df-convert {\n",
              "      background-color: #3B4455;\n",
              "      fill: #D2E3FC;\n",
              "    }\n",
              "\n",
              "    [theme=dark] .colab-df-convert:hover {\n",
              "      background-color: #434B5C;\n",
              "      box-shadow: 0px 1px 3px 1px rgba(0, 0, 0, 0.15);\n",
              "      filter: drop-shadow(0px 1px 2px rgba(0, 0, 0, 0.3));\n",
              "      fill: #FFFFFF;\n",
              "    }\n",
              "  </style>\n",
              "\n",
              "      <script>\n",
              "        const buttonEl =\n",
              "          document.querySelector('#df-400bb010-e7ce-463b-9244-bea5de6396ae button.colab-df-convert');\n",
              "        buttonEl.style.display =\n",
              "          google.colab.kernel.accessAllowed ? 'block' : 'none';\n",
              "\n",
              "        async function convertToInteractive(key) {\n",
              "          const element = document.querySelector('#df-400bb010-e7ce-463b-9244-bea5de6396ae');\n",
              "          const dataTable =\n",
              "            await google.colab.kernel.invokeFunction('convertToInteractive',\n",
              "                                                     [key], {});\n",
              "          if (!dataTable) return;\n",
              "\n",
              "          const docLinkHtml = 'Like what you see? Visit the ' +\n",
              "            '<a target=\"_blank\" href=https://colab.research.google.com/notebooks/data_table.ipynb>data table notebook</a>'\n",
              "            + ' to learn more about interactive tables.';\n",
              "          element.innerHTML = '';\n",
              "          dataTable['output_type'] = 'display_data';\n",
              "          await google.colab.output.renderOutput(dataTable, element);\n",
              "          const docLink = document.createElement('div');\n",
              "          docLink.innerHTML = docLinkHtml;\n",
              "          element.appendChild(docLink);\n",
              "        }\n",
              "      </script>\n",
              "    </div>\n",
              "  </div>\n"
            ]
          },
          "metadata": {},
          "execution_count": 127
        }
      ]
    },
    {
      "cell_type": "markdown",
      "source": [
        "#Univariate Analysis"
      ],
      "metadata": {
        "id": "SPGk4Dom6j2D"
      }
    },
    {
      "cell_type": "code",
      "source": [
        "sns.countplot(x='Gender',data=df)"
      ],
      "metadata": {
        "colab": {
          "base_uri": "https://localhost:8080/",
          "height": 466
        },
        "id": "zKG4yKIy8FC-",
        "outputId": "5e69ce30-e2ed-4368-e780-42a645311911"
      },
      "execution_count": null,
      "outputs": [
        {
          "output_type": "execute_result",
          "data": {
            "text/plain": [
              "<Axes: xlabel='Gender', ylabel='count'>"
            ]
          },
          "metadata": {},
          "execution_count": 25
        },
        {
          "output_type": "display_data",
          "data": {
            "text/plain": [
              "<Figure size 640x480 with 1 Axes>"
            ],
            "image/png": "[encoded data removed]"
          },
          "metadata": {}
        }
      ]
    },
    {
      "cell_type": "markdown",
      "source": [
        "***Male count are more than female count"
      ],
      "metadata": {
        "id": "cZP8RLk7iukS"
      }
    },
    {
      "cell_type": "code",
      "source": [
        "#Analyzing the  age count category\n",
        "age_count=df['Age'].value_counts()\n",
        "plt.pie(data=df,labels=age_count.index,x=age_count.values,autopct='%1.1f%%')\n",
        "plt.show()"
      ],
      "metadata": {
        "colab": {
          "base_uri": "https://localhost:8080/",
          "height": 406
        },
        "id": "Zda60ZeKAUJ5",
        "outputId": "5197b517-ae90-4e6e-d348-c20037622d00"
      },
      "execution_count": null,
      "outputs": [
        {
          "output_type": "display_data",
          "data": {
            "text/plain": [
              "<Figure size 640x480 with 1 Axes>"
            ],
            "image/png": "[encoded data removed]"
          },
          "metadata": {}
        }
      ]
    },
    {
      "cell_type": "markdown",
      "source": [
        "**Around 26-25 age buys the products more"
      ],
      "metadata": {
        "id": "U8J3kQrXi2hC"
      }
    },
    {
      "cell_type": "code",
      "source": [
        "#Analyzing the city category\n",
        "age_count=df['City_Category'].value_counts()\n",
        "plt.pie(data=df,labels=age_count.index,x=age_count.values,autopct='%1.1f%%')\n",
        "plt.show()"
      ],
      "metadata": {
        "colab": {
          "base_uri": "https://localhost:8080/",
          "height": 406
        },
        "id": "lFM42BjwECwM",
        "outputId": "58fccf62-47e0-487c-af9e-d9876bb6f3ac"
      },
      "execution_count": null,
      "outputs": [
        {
          "output_type": "display_data",
          "data": {
            "text/plain": [
              "<Figure size 640x480 with 1 Axes>"
            ],
            "image/png": "[encoded data removed]"
          },
          "metadata": {}
        }
      ]
    },
    {
      "cell_type": "markdown",
      "source": [
        "#Bivariate Analysis"
      ],
      "metadata": {
        "id": "b360lZ2OEY-r"
      }
    },
    {
      "cell_type": "code",
      "source": [
        "#purchase behaviour of male and female customers\n",
        "gender_df=df.groupby('Gender')['Purchase'].sum().reset_index()\n",
        "fig=plt.figure(figsize=(5,2))\n",
        "sns.barplot(y='Gender',x='Purchase',data=gender_df,orient='h')"
      ],
      "metadata": {
        "colab": {
          "base_uri": "https://localhost:8080/",
          "height": 251
        },
        "id": "_3qCuXbAEe5h",
        "outputId": "8515550a-03d8-42db-d511-de88a8371344"
      },
      "execution_count": null,
      "outputs": [
        {
          "output_type": "execute_result",
          "data": {
            "text/plain": [
              "<Axes: xlabel='Purchase', ylabel='Gender'>"
            ]
          },
          "metadata": {},
          "execution_count": 15
        },
        {
          "output_type": "display_data",
          "data": {
            "text/plain": [
              "<Figure size 500x200 with 1 Axes>"
            ],
            "image/png": "[encoded data removed]"
          },
          "metadata": {}
        }
      ]
    },
    {
      "cell_type": "markdown",
      "source": [
        "#3)Data exploration"
      ],
      "metadata": {
        "id": "QKGZI1DEjpMf"
      }
    },
    {
      "cell_type": "code",
      "source": [
        "#Analyzing the male purchase\n",
        "male=df[df['Gender']=='M']['Purchase']\n",
        "#caluculating the average of the male\n",
        "male_avg=male.mean()\n",
        "male_avg"
      ],
      "metadata": {
        "colab": {
          "base_uri": "https://localhost:8080/",
          "height": 0
        },
        "id": "e1WaTPTdmutN",
        "outputId": "0e01817f-4139-4e2f-db7c-d079c4c1812b"
      },
      "execution_count": 9,
      "outputs": [
        {
          "output_type": "execute_result",
          "data": {
            "text/plain": [
              "9437.526040472265"
            ]
          },
          "metadata": {},
          "execution_count": 9
        }
      ]
    },
    {
      "cell_type": "code",
      "source": [
        "##Analyzing the female purchase\n",
        "female=df[df['Gender']=='F']['Purchase']\n",
        "#caluculating the average of the male\n",
        "female_avg=female.mean()\n",
        "female_avg"
      ],
      "metadata": {
        "colab": {
          "base_uri": "https://localhost:8080/",
          "height": 0
        },
        "id": "L2ogjRkLoC4i",
        "outputId": "3acc15dd-0fb4-430f-f0cc-5e085840380c"
      },
      "execution_count": 10,
      "outputs": [
        {
          "output_type": "execute_result",
          "data": {
            "text/plain": [
              "8734.565765155476"
            ]
          },
          "metadata": {},
          "execution_count": 10
        }
      ]
    },
    {
      "cell_type": "markdown",
      "source": [
        "###use the sample average to find out an interval within which the population average will lie. Using the sample of female customers you will calculate the interval within which the average spending of 50 million male and female customers may lie.*"
      ],
      "metadata": {
        "id": "ztcBkIOpowNs"
      }
    },
    {
      "cell_type": "markdown",
      "source": [
        "## #Interval of population mean of male"
      ],
      "metadata": {
        "id": "EdqsV_DivTFr"
      }
    },
    {
      "cell_type": "code",
      "source": [
        "#95% confidence interval-to find population mean\n",
        "def conf(mu,n,conf):\n",
        "  print('sample mean:',mu)\n",
        "  std_sample=male.std()#sample standard deviation\n",
        "  #since we know sample std_dev= population std_dev (for n>=30)\n",
        "  print('population standard deviation:',std_sample)\n",
        "  std_pop=std_sample\n",
        "  std_err=std_pop/np.sqrt(n)\n",
        "  print('standard error:',std_err)\n",
        "  slice=(1-(conf/100))/2\n",
        "  z1=norm.ppf(slice)\n",
        "  z2=norm.ppf(1-slice)\n",
        "  print('z1:',z1,'z2:',z2)\n",
        "  #calucating the population mean within 95% interval\n",
        "  x1=z1*std_err+mu\n",
        "  x2=z2*std_err+mu\n",
        "  print('Population mean lies between:',[x1,x2])\n",
        "conf(mu=male_avg,n=len(df),conf=95)"
      ],
      "metadata": {
        "colab": {
          "base_uri": "https://localhost:8080/",
          "height": 0
        },
        "id": "YP2K1qTko5jk",
        "outputId": "67beb759-07e8-4f2a-9084-7f52d86e18c7"
      },
      "execution_count": 90,
      "outputs": [
        {
          "output_type": "stream",
          "name": "stdout",
          "text": [
            "sample mean: 9437.526040472265\n",
            "population standard deviation: 5092.18620977797\n",
            "standard error: 6.865878061558824\n",
            "z1: -1.959963984540054 z2: 1.959963984540054\n",
            "Population mean lies between: [9424.069166749367, 9450.982914195163]\n"
          ]
        }
      ]
    },
    {
      "cell_type": "code",
      "source": [
        "#90% confidence interval-to find population mean\n",
        "def conf(mu,n,conf):\n",
        "  print('sample mean:',mu)\n",
        "  std_sample=male.std()#sample standard deviation\n",
        "  #since we know sample std_dev= population std_dev (for n>=30)\n",
        "  print('population standard deviation:',std_sample)\n",
        "  std_pop=std_sample\n",
        "  std_err=std_pop/np.sqrt(n)\n",
        "  print('standard error:',std_err)\n",
        "  slice=(1-conf/100)/2\n",
        "  z1=norm.ppf(slice)\n",
        "  z2=norm.ppf(1-slice)\n",
        "  print('z1:',z1,'z2:',z2)\n",
        "  #calucating the population mean within 95% interval\n",
        "  x1=z1*std_err+mu\n",
        "  x2=z2*std_err+mu\n",
        "  print('Population mean lies between:',[x1,x2])\n",
        "conf(mu=male_avg,n=len(df),conf=90)"
      ],
      "metadata": {
        "colab": {
          "base_uri": "https://localhost:8080/",
          "height": 0
        },
        "id": "_6LAQUJFvAdM",
        "outputId": "79185569-e8d6-4954-8cc6-299dfa2074d9"
      },
      "execution_count": 91,
      "outputs": [
        {
          "output_type": "stream",
          "name": "stdout",
          "text": [
            "sample mean: 9437.526040472265\n",
            "population standard deviation: 5092.18620977797\n",
            "standard error: 6.865878061558824\n",
            "z1: -1.6448536269514729 z2: 1.6448536269514722\n",
            "Population mean lies between: [9426.232676040503, 9448.819404904027]\n"
          ]
        }
      ]
    },
    {
      "cell_type": "code",
      "source": [
        "#99% confidence interval-to find population mean\n",
        "def conf(mu,n,conf):\n",
        "  print('sample mean:',mu)\n",
        "  std_sample=male.std()#sample standard deviation\n",
        "  #since we know sample std_dev= population std_dev (for n>=30)\n",
        "  print('population standard deviation:',std_sample)\n",
        "  std_pop=std_sample\n",
        "  std_err=std_pop/np.sqrt(n)\n",
        "  print('standard error:',std_err)\n",
        "  slice=(1-conf/100)/2\n",
        "  z1=norm.ppf(slice)\n",
        "  z2=norm.ppf(1-slice)\n",
        "  print('z1:',z1,'z2:',z2)\n",
        "  #calucating the population mean within 95% interval\n",
        "  x1=z1*std_err+mu\n",
        "  x2=z2*std_err+mu\n",
        "  print('Population mean lies between:',[x1,x2])\n",
        "conf(mu=male_avg,n=len(df),conf=99)"
      ],
      "metadata": {
        "colab": {
          "base_uri": "https://localhost:8080/",
          "height": 0
        },
        "id": "I5Rfrty56YWQ",
        "outputId": "84f99449-b781-4ba1-a23a-2f61dfd57812"
      },
      "execution_count": 92,
      "outputs": [
        {
          "output_type": "stream",
          "name": "stdout",
          "text": [
            "sample mean: 9437.526040472265\n",
            "population standard deviation: 5092.18620977797\n",
            "standard error: 6.865878061558824\n",
            "z1: -2.5758293035489004 z2: 2.5758293035489004\n",
            "Population mean lies between: [9419.840710566708, 9455.211370377821]\n"
          ]
        }
      ]
    },
    {
      "cell_type": "markdown",
      "source": [
        "***Thus from above we can infere,population mean of male purchase lies between 9,420 to 9,450"
      ],
      "metadata": {
        "id": "kNTEtO9P7MKa"
      }
    },
    {
      "cell_type": "markdown",
      "source": [
        "## #Interval of population mean of female"
      ],
      "metadata": {
        "id": "s-WMEhFuvfIb"
      }
    },
    {
      "cell_type": "code",
      "source": [
        "#95% confidence interval-to find population mean of female\n",
        "def conf(mu,n,conf):\n",
        "  print('sample mean:',mu)\n",
        "  std_sample=female.std()#sample standard deviation\n",
        "  #since we know sample std_dev= population std_dev (for n>=30)\n",
        "  print('population standard deviation:',std_sample)\n",
        "  std_pop=std_sample\n",
        "  std_err=std_pop/np.sqrt(n)\n",
        "  print('standard error:',std_err)\n",
        "  slice=(1-conf/100)/2\n",
        "  z1=norm.ppf(slice)\n",
        "  z2=norm.ppf(1-slice)\n",
        "  print('z1:',z1,'z2:',z2)\n",
        "  #calucating the population mean within 95% interval\n",
        "  x1=z1*std_err+mu\n",
        "  x2=z2*std_err+mu\n",
        "  print('Population mean lies between:',[x1,x2])\n",
        "conf(mu=female_avg,n=len(df),conf=95)"
      ],
      "metadata": {
        "colab": {
          "base_uri": "https://localhost:8080/",
          "height": 0
        },
        "id": "c2KvNtmuvg7F",
        "outputId": "6d7f73d5-adcc-45cc-f12f-77c7df062c4e"
      },
      "execution_count": 89,
      "outputs": [
        {
          "output_type": "stream",
          "name": "stdout",
          "text": [
            "sample mean: 8734.565765155476\n",
            "population standard deviation: 4767.233289291458\n",
            "standard error: 6.42773871710129\n",
            "z1: -1.959963984540054 z2: 1.959963984540054\n",
            "Population mean lies between: [8721.967628767923, 8747.163901543028]\n"
          ]
        }
      ]
    },
    {
      "cell_type": "code",
      "source": [
        "#99% confidence interval-to find population mean of female\n",
        "def conf(mu,n,conf):\n",
        "  print('sample mean:',mu)\n",
        "  std_sample=female.std()#sample standard deviation\n",
        "  #since we know sample std_dev= population std_dev (for n>=30)\n",
        "  print('population standard deviation:',std_sample)\n",
        "  std_pop=std_sample\n",
        "  std_err=std_pop/np.sqrt(n)\n",
        "  print('standard error:',std_err)\n",
        "  slice=(1-conf/100)/2\n",
        "  z1=norm.ppf(slice)\n",
        "  z2=norm.ppf(1-slice)\n",
        "  print('z1:',z1,'z2:',z2)\n",
        "  #calucating the population mean within 95% interval\n",
        "  x1=z1*std_err+mu\n",
        "  x2=z2*std_err+mu\n",
        "  print('Population mean lies between:',[x1,x2])\n",
        "conf(mu=female_avg,n=len(df),conf=99)"
      ],
      "metadata": {
        "colab": {
          "base_uri": "https://localhost:8080/",
          "height": 0
        },
        "id": "eQVyAEr38ESL",
        "outputId": "d1edc2ba-712a-49df-8a40-e7606d74d3ad"
      },
      "execution_count": 88,
      "outputs": [
        {
          "output_type": "stream",
          "name": "stdout",
          "text": [
            "sample mean: 8734.565765155476\n",
            "population standard deviation: 4767.233289291458\n",
            "standard error: 6.42773871710129\n",
            "z1: -2.5758293035489004 z2: 2.5758293035489004\n",
            "Population mean lies between: [8718.009007412411, 8751.12252289854]\n"
          ]
        }
      ]
    },
    {
      "cell_type": "markdown",
      "source": [
        "**so from above we can infere that population mean female purchases ranges between 8,718 to 8,750"
      ],
      "metadata": {
        "id": "v5PnlwYK8l4L"
      }
    },
    {
      "cell_type": "markdown",
      "source": [
        "**Thus we can conclude that male purchase more than females"
      ],
      "metadata": {
        "id": "ofDHLBy385o_"
      }
    },
    {
      "cell_type": "markdown",
      "source": [
        "### 4)Use the Central limit theorem to compute the interval. Change the sample size to observe the distribution of the mean of the expenses by female and male customers."
      ],
      "metadata": {
        "id": "hjtFbMVF8dsN"
      }
    },
    {
      "cell_type": "markdown",
      "source": [
        "## #Taking sample of 100 customers"
      ],
      "metadata": {
        "id": "5BTR4h929jAW"
      }
    },
    {
      "cell_type": "code",
      "source": [
        "#Taking sample of 100 male purchases\n",
        "male_samp=[male.sample(100).mean() for i in range(10000)]\n",
        "male_samp=np.array(male_samp)\n",
        "sns.histplot(male_samp)\n"
      ],
      "metadata": {
        "colab": {
          "base_uri": "https://localhost:8080/",
          "height": 447
        },
        "id": "zI5tI6Ek9e_Z",
        "outputId": "58120f34-4c88-41dc-ba5c-0fb15798dcef"
      },
      "execution_count": 95,
      "outputs": [
        {
          "output_type": "execute_result",
          "data": {
            "text/plain": [
              "<Axes: ylabel='Count'>"
            ]
          },
          "metadata": {},
          "execution_count": 95
        },
        {
          "output_type": "display_data",
          "data": {
            "text/plain": [
              "<Figure size 640x480 with 1 Axes>"
            ],
            "image/png": "[encoded data removed]"
          },
          "metadata": {}
        }
      ]
    },
    {
      "cell_type": "code",
      "source": [
        "#95% confidence interval-to find population mean of male\n",
        "def conf(mu,n,conf):\n",
        "  print('sample mean:',mu)\n",
        "  std_sample=male_samp.std()#sample standard deviation\n",
        "  #since we know sample std_dev= population std_dev (for n>=30)\n",
        "  print('population standard deviation:',std_sample)\n",
        "  std_pop=std_sample\n",
        "  std_err=std_pop/np.sqrt(n)\n",
        "  print('standard error:',std_err)\n",
        "  slice=(1-conf/100)/2\n",
        "  z1=norm.ppf(slice)\n",
        "  z2=1-norm.ppf(1-slice)\n",
        "  print('z1:',z1,'z2:',z2)\n",
        "  #calucating the population mean within 95% interval\n",
        "  x1=z1*std_err+mu\n",
        "  x2=z2*std_err+mu\n",
        "  print('Population mean lies between:',[x1,x2])\n",
        "conf(mu=male_samp.mean(),n=100,conf=95)\n"
      ],
      "metadata": {
        "colab": {
          "base_uri": "https://localhost:8080/",
          "height": 0
        },
        "id": "dZWLlVJrbE8c",
        "outputId": "b644206d-bf3b-4ecd-a6e9-63c98c6b1836"
      },
      "execution_count": 97,
      "outputs": [
        {
          "output_type": "stream",
          "name": "stdout",
          "text": [
            "sample mean: 9428.652976000001\n",
            "population standard deviation: 508.32697748363057\n",
            "standard error: 50.83269774836306\n",
            "z1: -1.959963984540054 z2: -0.959963984540054\n",
            "Population mean lies between: [9329.022719176199, 9379.855416924562]\n"
          ]
        }
      ]
    },
    {
      "cell_type": "code",
      "source": [
        "#99% confidence interval-to find population mean of male\n",
        "def conf(mu,n,conf):\n",
        "  print('sample mean:',mu)\n",
        "  std_sample=male_samp.std()#sample standard deviation\n",
        "  #since we know sample std_dev= population std_dev (for n>=30)\n",
        "  print('population standard deviation:',std_sample)\n",
        "  std_pop=std_sample\n",
        "  std_err=std_pop/np.sqrt(n)\n",
        "  print('standard error:',std_err)\n",
        "  slice=(1-conf/100)/2\n",
        "  z1=norm.ppf(slice)\n",
        "  z2=norm.ppf(1-slice)\n",
        "  print('z1:',z1,'z2:',z2)\n",
        "  #calucating the population mean within 99% interval\n",
        "  x1=z1*std_err+mu\n",
        "  x2=z2*std_err+mu\n",
        "  print('Population mean lies between:',[x1,x2])\n",
        "conf(mu=male_samp.mean(),n=100,conf=99)\n"
      ],
      "metadata": {
        "colab": {
          "base_uri": "https://localhost:8080/",
          "height": 0
        },
        "id": "oAQg2Q78gH-0",
        "outputId": "565893ce-849a-4f2b-8e7e-3e988d9e08a3"
      },
      "execution_count": 100,
      "outputs": [
        {
          "output_type": "stream",
          "name": "stdout",
          "text": [
            "sample mean: 9428.652976000001\n",
            "population standard deviation: 508.32697748363057\n",
            "standard error: 50.83269774836306\n",
            "z1: -2.5758293035489004 z2: 2.5758293035489004\n",
            "Population mean lies between: [9297.716623561324, 9559.589328438678]\n"
          ]
        }
      ]
    },
    {
      "cell_type": "markdown",
      "source": [
        "**Thus we can see that after taking 100 samples also we get the male purchase population mean around 9,300 to 9,500\n",
        "\n",
        "> Indented block\n",
        "\n"
      ],
      "metadata": {
        "id": "RpTLHTe0g4Pg"
      }
    },
    {
      "cell_type": "markdown",
      "source": [
        "## #Interval of population mean of female"
      ],
      "metadata": {
        "id": "utOpfX2ahNTv"
      }
    },
    {
      "cell_type": "code",
      "source": [
        "#Taking sample of 100 female purchases\n",
        "male_samp=[female.sample(100).mean() for i in range(10000)]\n",
        "female_samp=np.array(male_samp)\n",
        "sns.histplot(female_samp)"
      ],
      "metadata": {
        "colab": {
          "base_uri": "https://localhost:8080/",
          "height": 447
        },
        "id": "MIEwcXSIjbnc",
        "outputId": "4569c9ea-4527-476b-b77b-928f25a94aed"
      },
      "execution_count": 35,
      "outputs": [
        {
          "output_type": "execute_result",
          "data": {
            "text/plain": [
              "<Axes: ylabel='Count'>"
            ]
          },
          "metadata": {},
          "execution_count": 35
        },
        {
          "output_type": "display_data",
          "data": {
            "text/plain": [
              "<Figure size 640x480 with 1 Axes>"
            ],
            "image/png": "[encoded data removed]"
          },
          "metadata": {}
        }
      ]
    },
    {
      "cell_type": "code",
      "source": [
        "#95% confidence interval-to find population mean of female\n",
        "def conf(mu,n,conf):\n",
        "  print('sample mean:',mu)\n",
        "  std_sample=female_samp.std()#sample standard deviation\n",
        "  #since we know sample std_dev= population std_dev (for n>=30)\n",
        "  print('population standard deviation:',std_sample)\n",
        "  std_pop=std_sample\n",
        "  std_err=std_pop/np.sqrt(n)\n",
        "  print('standard error:',std_err)\n",
        "  slice=(1-conf/100)/2\n",
        "  z1=norm.ppf(slice)\n",
        "  z2=norm.ppf(1-slice)\n",
        "  print('z1:',z1,'z2:',z2)\n",
        "  #calucating the population mean within 95% interval\n",
        "  x1=z1*std_err+mu\n",
        "  x2=z2*std_err+mu\n",
        "  print('Population mean lies between:',[x1,x2])\n",
        "conf(mu=female_samp.mean(),n=100,conf=95)"
      ],
      "metadata": {
        "colab": {
          "base_uri": "https://localhost:8080/",
          "height": 0
        },
        "id": "V8u7WdWxjV7I",
        "outputId": "3abec6e7-d55c-47fd-f22f-dbdf0fefb093"
      },
      "execution_count": 85,
      "outputs": [
        {
          "output_type": "stream",
          "name": "stdout",
          "text": [
            "sample mean: 8742.402897999998\n",
            "population standard deviation: 477.16756129492035\n",
            "standard error: 47.71675612949203\n",
            "z1: -1.959963984540054 z2: 1.959963984540054\n",
            "Population mean lies between: [8648.879774527113, 8835.926021472884]\n"
          ]
        }
      ]
    },
    {
      "cell_type": "code",
      "source": [
        "#99% confidence interval-to find population mean of female\n",
        "def conf(mu,n,conf):\n",
        "  print('sample mean:',mu)\n",
        "  std_sample=female_samp.std()#sample standard deviation\n",
        "  #since we know sample std_dev= population std_dev (for n>=30)\n",
        "  print('population standard deviation:',std_sample)\n",
        "  std_pop=std_sample\n",
        "  std_err=std_pop/np.sqrt(n)\n",
        "  print('standard error:',std_err)\n",
        "  slice=(1-conf/100)/2\n",
        "  z1=norm.ppf(slice)\n",
        "  z2=norm.ppf(1-slice)\n",
        "  print('z1:',z1,'z2:',z2)\n",
        "  #calucating the population mean within 95% interval\n",
        "  x1=z1*std_err+mu\n",
        "  x2=z2*std_err+mu\n",
        "  print('Population mean lies between:',[x1,x2])\n",
        "conf(mu=female_samp.mean(),n=100,conf=99)"
      ],
      "metadata": {
        "colab": {
          "base_uri": "https://localhost:8080/",
          "height": 0
        },
        "id": "dsVkDjs3kDQ4",
        "outputId": "57c6a1b1-e51a-4b5e-d7d3-3a94c9a0c12d"
      },
      "execution_count": 84,
      "outputs": [
        {
          "output_type": "stream",
          "name": "stdout",
          "text": [
            "sample mean: 8742.402897999998\n",
            "population standard deviation: 477.16756129492035\n",
            "standard error: 47.71675612949203\n",
            "z1: -2.5758293035489004 z2: 2.5758293035489004\n",
            "Population mean lies between: [8619.492679291356, 8865.313116708641]\n"
          ]
        }
      ]
    },
    {
      "cell_type": "markdown",
      "source": [
        "**Thus we can see that after taking 50 samples also we get the male purchase population mean around 8,600 to 8,900"
      ],
      "metadata": {
        "id": "iHRxUas3kSVE"
      }
    },
    {
      "cell_type": "markdown",
      "source": [
        "**Thus we can conclude that population mean of female and male purchases will be fall around 8000 to 9000(even if we change sample size is 100 also)**bold text**"
      ],
      "metadata": {
        "id": "_L4BoL34kWlK"
      }
    },
    {
      "cell_type": "code",
      "source": [
        "df.head()"
      ],
      "metadata": {
        "colab": {
          "base_uri": "https://localhost:8080/",
          "height": 339
        },
        "id": "CqOWxJY6kwA0",
        "outputId": "12f1a30a-9540-4c1d-e94e-bad6b8522775"
      },
      "execution_count": 40,
      "outputs": [
        {
          "output_type": "execute_result",
          "data": {
            "text/plain": [
              "   User_ID Product_ID Gender   Age  Occupation City_Category  \\\n",
              "0  1000001  P00069042      F  0-17          10             A   \n",
              "1  1000001  P00248942      F  0-17          10             A   \n",
              "2  1000001  P00087842      F  0-17          10             A   \n",
              "3  1000001  P00085442      F  0-17          10             A   \n",
              "4  1000002  P00285442      M   55+          16             C   \n",
              "\n",
              "  Stay_In_Current_City_Years  Marital_Status  Product_Category  Purchase  \n",
              "0                          2               0                 3      8370  \n",
              "1                          2               0                 1     15200  \n",
              "2                          2               0                12      1422  \n",
              "3                          2               0                12      1057  \n",
              "4                         4+               0                 8      7969  "
            ],
            "text/html": [
              "\n",
              "\n",
              "  <div id=\"df-7d8a5d1d-11cf-49cb-a13f-8d427603f657\">\n",
              "    <div class=\"colab-df-container\">\n",
              "      <div>\n",
              "<style scoped>\n",
              "    .dataframe tbody tr th:only-of-type {\n",
              "        vertical-align: middle;\n",
              "    }\n",
              "\n",
              "    .dataframe tbody tr th {\n",
              "        vertical-align: top;\n",
              "    }\n",
              "\n",
              "    .dataframe thead th {\n",
              "        text-align: right;\n",
              "    }\n",
              "</style>\n",
              "<table border=\"1\" class=\"dataframe\">\n",
              "  <thead>\n",
              "    <tr style=\"text-align: right;\">\n",
              "      <th></th>\n",
              "      <th>User_ID</th>\n",
              "      <th>Product_ID</th>\n",
              "      <th>Gender</th>\n",
              "      <th>Age</th>\n",
              "      <th>Occupation</th>\n",
              "      <th>City_Category</th>\n",
              "      <th>Stay_In_Current_City_Years</th>\n",
              "      <th>Marital_Status</th>\n",
              "      <th>Product_Category</th>\n",
              "      <th>Purchase</th>\n",
              "    </tr>\n",
              "  </thead>\n",
              "  <tbody>\n",
              "    <tr>\n",
              "      <th>0</th>\n",
              "      <td>1000001</td>\n",
              "      <td>P00069042</td>\n",
              "      <td>F</td>\n",
              "      <td>0-17</td>\n",
              "      <td>10</td>\n",
              "      <td>A</td>\n",
              "      <td>2</td>\n",
              "      <td>0</td>\n",
              "      <td>3</td>\n",
              "      <td>8370</td>\n",
              "    </tr>\n",
              "    <tr>\n",
              "      <th>1</th>\n",
              "      <td>1000001</td>\n",
              "      <td>P00248942</td>\n",
              "      <td>F</td>\n",
              "      <td>0-17</td>\n",
              "      <td>10</td>\n",
              "      <td>A</td>\n",
              "      <td>2</td>\n",
              "      <td>0</td>\n",
              "      <td>1</td>\n",
              "      <td>15200</td>\n",
              "    </tr>\n",
              "    <tr>\n",
              "      <th>2</th>\n",
              "      <td>1000001</td>\n",
              "      <td>P00087842</td>\n",
              "      <td>F</td>\n",
              "      <td>0-17</td>\n",
              "      <td>10</td>\n",
              "      <td>A</td>\n",
              "      <td>2</td>\n",
              "      <td>0</td>\n",
              "      <td>12</td>\n",
              "      <td>1422</td>\n",
              "    </tr>\n",
              "    <tr>\n",
              "      <th>3</th>\n",
              "      <td>1000001</td>\n",
              "      <td>P00085442</td>\n",
              "      <td>F</td>\n",
              "      <td>0-17</td>\n",
              "      <td>10</td>\n",
              "      <td>A</td>\n",
              "      <td>2</td>\n",
              "      <td>0</td>\n",
              "      <td>12</td>\n",
              "      <td>1057</td>\n",
              "    </tr>\n",
              "    <tr>\n",
              "      <th>4</th>\n",
              "      <td>1000002</td>\n",
              "      <td>P00285442</td>\n",
              "      <td>M</td>\n",
              "      <td>55+</td>\n",
              "      <td>16</td>\n",
              "      <td>C</td>\n",
              "      <td>4+</td>\n",
              "      <td>0</td>\n",
              "      <td>8</td>\n",
              "      <td>7969</td>\n",
              "    </tr>\n",
              "  </tbody>\n",
              "</table>\n",
              "</div>\n",
              "      <button class=\"colab-df-convert\" onclick=\"convertToInteractive('df-7d8a5d1d-11cf-49cb-a13f-8d427603f657')\"\n",
              "              title=\"Convert this dataframe to an interactive table.\"\n",
              "              style=\"display:none;\">\n",
              "\n",
              "  <svg xmlns=\"http://www.w3.org/2000/svg\" height=\"24px\"viewBox=\"0 0 24 24\"\n",
              "       width=\"24px\">\n",
              "    <path d=\"M0 0h24v24H0V0z\" fill=\"none\"/>\n",
              "    <path d=\"M18.56 5.44l.94 2.06.94-2.06 2.06-.94-2.06-.94-.94-2.06-.94 2.06-2.06.94zm-11 1L8.5 8.5l.94-2.06 2.06-.94-2.06-.94L8.5 2.5l-.94 2.06-2.06.94zm10 10l.94 2.06.94-2.06 2.06-.94-2.06-.94-.94-2.06-.94 2.06-2.06.94z\"/><path d=\"M17.41 7.96l-1.37-1.37c-.4-.4-.92-.59-1.43-.59-.52 0-1.04.2-1.43.59L10.3 9.45l-7.72 7.72c-.78.78-.78 2.05 0 2.83L4 21.41c.39.39.9.59 1.41.59.51 0 1.02-.2 1.41-.59l7.78-7.78 2.81-2.81c.8-.78.8-2.07 0-2.86zM5.41 20L4 18.59l7.72-7.72 1.47 1.35L5.41 20z\"/>\n",
              "  </svg>\n",
              "      </button>\n",
              "\n",
              "\n",
              "\n",
              "    <div id=\"df-affa1627-4a2e-4463-baae-4361a35cb716\">\n",
              "      <button class=\"colab-df-quickchart\" onclick=\"quickchart('df-affa1627-4a2e-4463-baae-4361a35cb716')\"\n",
              "              title=\"Suggest charts.\"\n",
              "              style=\"display:none;\">\n",
              "\n",
              "<svg xmlns=\"http://www.w3.org/2000/svg\" height=\"24px\"viewBox=\"0 0 24 24\"\n",
              "     width=\"24px\">\n",
              "    <g>\n",
              "        <path d=\"M19 3H5c-1.1 0-2 .9-2 2v14c0 1.1.9 2 2 2h14c1.1 0 2-.9 2-2V5c0-1.1-.9-2-2-2zM9 17H7v-7h2v7zm4 0h-2V7h2v10zm4 0h-2v-4h2v4z\"/>\n",
              "    </g>\n",
              "</svg>\n",
              "      </button>\n",
              "    </div>\n",
              "\n",
              "<style>\n",
              "  .colab-df-quickchart {\n",
              "    background-color: #E8F0FE;\n",
              "    border: none;\n",
              "    border-radius: 50%;\n",
              "    cursor: pointer;\n",
              "    display: none;\n",
              "    fill: #1967D2;\n",
              "    height: 32px;\n",
              "    padding: 0 0 0 0;\n",
              "    width: 32px;\n",
              "  }\n",
              "\n",
              "  .colab-df-quickchart:hover {\n",
              "    background-color: #E2EBFA;\n",
              "    box-shadow: 0px 1px 2px rgba(60, 64, 67, 0.3), 0px 1px 3px 1px rgba(60, 64, 67, 0.15);\n",
              "    fill: #174EA6;\n",
              "  }\n",
              "\n",
              "  [theme=dark] .colab-df-quickchart {\n",
              "    background-color: #3B4455;\n",
              "    fill: #D2E3FC;\n",
              "  }\n",
              "\n",
              "  [theme=dark] .colab-df-quickchart:hover {\n",
              "    background-color: #434B5C;\n",
              "    box-shadow: 0px 1px 3px 1px rgba(0, 0, 0, 0.15);\n",
              "    filter: drop-shadow(0px 1px 2px rgba(0, 0, 0, 0.3));\n",
              "    fill: #FFFFFF;\n",
              "  }\n",
              "</style>\n",
              "\n",
              "    <script>\n",
              "      async function quickchart(key) {\n",
              "        const containerElement = document.querySelector('#' + key);\n",
              "        const charts = await google.colab.kernel.invokeFunction(\n",
              "            'suggestCharts', [key], {});\n",
              "      }\n",
              "    </script>\n",
              "\n",
              "      <script>\n",
              "\n",
              "function displayQuickchartButton(domScope) {\n",
              "  let quickchartButtonEl =\n",
              "    domScope.querySelector('#df-affa1627-4a2e-4463-baae-4361a35cb716 button.colab-df-quickchart');\n",
              "  quickchartButtonEl.style.display =\n",
              "    google.colab.kernel.accessAllowed ? 'block' : 'none';\n",
              "}\n",
              "\n",
              "        displayQuickchartButton(document);\n",
              "      </script>\n",
              "      <style>\n",
              "    .colab-df-container {\n",
              "      display:flex;\n",
              "      flex-wrap:wrap;\n",
              "      gap: 12px;\n",
              "    }\n",
              "\n",
              "    .colab-df-convert {\n",
              "      background-color: #E8F0FE;\n",
              "      border: none;\n",
              "      border-radius: 50%;\n",
              "      cursor: pointer;\n",
              "      display: none;\n",
              "      fill: #1967D2;\n",
              "      height: 32px;\n",
              "      padding: 0 0 0 0;\n",
              "      width: 32px;\n",
              "    }\n",
              "\n",
              "    .colab-df-convert:hover {\n",
              "      background-color: #E2EBFA;\n",
              "      box-shadow: 0px 1px 2px rgba(60, 64, 67, 0.3), 0px 1px 3px 1px rgba(60, 64, 67, 0.15);\n",
              "      fill: #174EA6;\n",
              "    }\n",
              "\n",
              "    [theme=dark] .colab-df-convert {\n",
              "      background-color: #3B4455;\n",
              "      fill: #D2E3FC;\n",
              "    }\n",
              "\n",
              "    [theme=dark] .colab-df-convert:hover {\n",
              "      background-color: #434B5C;\n",
              "      box-shadow: 0px 1px 3px 1px rgba(0, 0, 0, 0.15);\n",
              "      filter: drop-shadow(0px 1px 2px rgba(0, 0, 0, 0.3));\n",
              "      fill: #FFFFFF;\n",
              "    }\n",
              "  </style>\n",
              "\n",
              "      <script>\n",
              "        const buttonEl =\n",
              "          document.querySelector('#df-7d8a5d1d-11cf-49cb-a13f-8d427603f657 button.colab-df-convert');\n",
              "        buttonEl.style.display =\n",
              "          google.colab.kernel.accessAllowed ? 'block' : 'none';\n",
              "\n",
              "        async function convertToInteractive(key) {\n",
              "          const element = document.querySelector('#df-7d8a5d1d-11cf-49cb-a13f-8d427603f657');\n",
              "          const dataTable =\n",
              "            await google.colab.kernel.invokeFunction('convertToInteractive',\n",
              "                                                     [key], {});\n",
              "          if (!dataTable) return;\n",
              "\n",
              "          const docLinkHtml = 'Like what you see? Visit the ' +\n",
              "            '<a target=\"_blank\" href=https://colab.research.google.com/notebooks/data_table.ipynb>data table notebook</a>'\n",
              "            + ' to learn more about interactive tables.';\n",
              "          element.innerHTML = '';\n",
              "          dataTable['output_type'] = 'display_data';\n",
              "          await google.colab.output.renderOutput(dataTable, element);\n",
              "          const docLink = document.createElement('div');\n",
              "          docLink.innerHTML = docLinkHtml;\n",
              "          element.appendChild(docLink);\n",
              "        }\n",
              "      </script>\n",
              "    </div>\n",
              "  </div>\n"
            ]
          },
          "metadata": {},
          "execution_count": 40
        }
      ]
    },
    {
      "cell_type": "markdown",
      "source": [
        "### 5)Conclude the results and check if the confidence intervals of average male and female spends are overlapping or not overlapping. How can Walmart leverage this conclusion to make changes or improvements?\n",
        "---"
      ],
      "metadata": {
        "id": "Q54DXTGmmNMV"
      }
    },
    {
      "cell_type": "markdown",
      "source": [
        "--- By seeing population mean of both male and female we can conclude that both are overlapping(i.e,there is no significance differnece bewteen males and female purchase),so walmart can improve by using strategies like customer personolization,customer feedback,diverse product range,pricing startegies"
      ],
      "metadata": {
        "id": "xJQhBrRALM9s"
      }
    },
    {
      "cell_type": "markdown",
      "source": [
        "#Analyzing the purchase of marital_status"
      ],
      "metadata": {
        "id": "6yyfXbN6ktwD"
      }
    },
    {
      "cell_type": "markdown",
      "source": [
        "##**Taking sample of 500-Married purchases"
      ],
      "metadata": {
        "id": "pa85oRABnQeS"
      }
    },
    {
      "cell_type": "code",
      "source": [
        "married=df[df['Marital_Status']=='1']['Purchase']\n",
        "#Taking sample of 500 married purchases\n",
        "married_samp=np.array([married.sample(500).mean() for i in range(10000)])\n",
        "mu_married=married_samp.mean()\n",
        "mu_married"
      ],
      "metadata": {
        "colab": {
          "base_uri": "https://localhost:8080/",
          "height": 0
        },
        "id": "osw_5LD-ktbU",
        "outputId": "d6d8c404-41df-4fdb-de4f-7272f0b27a1c"
      },
      "execution_count": 149,
      "outputs": [
        {
          "output_type": "execute_result",
          "data": {
            "text/plain": [
              "9258.4100512"
            ]
          },
          "metadata": {},
          "execution_count": 149
        }
      ]
    },
    {
      "cell_type": "code",
      "source": [
        "#95% confidence interval-to find population mean of married purchases\n",
        "def conf(mu,n,conf):\n",
        "  print('sample mean:',mu)\n",
        "  std_sample=married_samp.std()#sample standard deviation\n",
        "  #since we know sample std_dev= population std_dev (for n>=30)\n",
        "  print('population standard deviation:',std_sample)\n",
        "  std_pop=std_sample\n",
        "  std_err=std_pop/np.sqrt(n)\n",
        "  print('standard error:',std_err)\n",
        "  slice=(1-conf/100)/2\n",
        "  z1=norm.ppf(slice)\n",
        "  z2=norm.ppf(1-slice)\n",
        "  print('z1:',z1,'z2:',z2)\n",
        "  #calucating the population mean within 95% interval\n",
        "  x1=z1*std_err+mu\n",
        "  x2=z2*std_err+mu\n",
        "  print('Population mean lies between:',[x1,x2])\n",
        "conf(mu_married,n=500,conf=95)"
      ],
      "metadata": {
        "colab": {
          "base_uri": "https://localhost:8080/",
          "height": 0
        },
        "id": "uFVfrMWZkRwX",
        "outputId": "0d62342b-a832-4eae-b59a-08001926d7ac"
      },
      "execution_count": 150,
      "outputs": [
        {
          "output_type": "stream",
          "name": "stdout",
          "text": [
            "sample mean: 9258.4100512\n",
            "population standard deviation: 221.6342466681983\n",
            "standard error: 9.911784833840953\n",
            "z1: -1.959963984540054 z2: 1.959963984540054\n",
            "Population mean lies between: [9238.983309903162, 9277.836792496839]\n"
          ]
        }
      ]
    },
    {
      "cell_type": "code",
      "source": [
        "#90% confidence interval-to find population mean of married purchases\n",
        "def conf(mu,n,conf):\n",
        "  print('sample mean:',mu)\n",
        "  std_sample=married_samp.std()#sample standard deviation\n",
        "  #since we know sample std_dev= population std_dev (for n>=30)\n",
        "  print('population standard deviation:',std_sample)\n",
        "  std_pop=std_sample\n",
        "  std_err=std_pop/np.sqrt(n)\n",
        "  print('standard error:',std_err)\n",
        "  slice=(1-conf/100)/2\n",
        "  z1=norm.ppf(slice)\n",
        "  z2=norm.ppf(1-slice)\n",
        "  print('z1:',z1,'z2:',z2)\n",
        "  #calucating the population mean within 90% interval\n",
        "  x1=z1*std_err+mu\n",
        "  x2=z2*std_err+mu\n",
        "  print('Population mean lies between:',[x1,x2])\n",
        "conf(mu_married,n=500,conf=90)"
      ],
      "metadata": {
        "colab": {
          "base_uri": "https://localhost:8080/",
          "height": 0
        },
        "id": "8YN87IJroswU",
        "outputId": "31db568f-6731-4ca2-a4f2-5140356c0b09"
      },
      "execution_count": 151,
      "outputs": [
        {
          "output_type": "stream",
          "name": "stdout",
          "text": [
            "sample mean: 9258.4100512\n",
            "population standard deviation: 221.6342466681983\n",
            "standard error: 9.911784833840953\n",
            "z1: -1.6448536269514729 z2: 1.6448536269514722\n",
            "Population mean lies between: [9242.106615966495, 9274.713486433506]\n"
          ]
        }
      ]
    },
    {
      "cell_type": "markdown",
      "source": [
        "***so from above we can see that population mean of married purchases fall aroud 9200 to 9300"
      ],
      "metadata": {
        "id": "caPC1gcXo2z1"
      }
    },
    {
      "cell_type": "markdown",
      "source": [
        "**Taking sample of 500-Unmarried purchases"
      ],
      "metadata": {
        "id": "WF_aQE1IpRPv"
      }
    },
    {
      "cell_type": "code",
      "source": [
        "unmarried=df[df['Marital_Status']=='0']['Purchase']\n",
        "#Taking sample of 500 unmarried purchases\n",
        "unmarried_samp=np.array([unmarried.sample(500).mean() for i in range(10000)])\n",
        "mu_unmarried=unmarried_samp.mean()\n",
        "mu_unmarried"
      ],
      "metadata": {
        "colab": {
          "base_uri": "https://localhost:8080/",
          "height": 0
        },
        "id": "BLdzj3OtpH4i",
        "outputId": "36c27b75-5c44-4706-9ab5-6f2337e23128"
      },
      "execution_count": 152,
      "outputs": [
        {
          "output_type": "execute_result",
          "data": {
            "text/plain": [
              "9262.998587600001"
            ]
          },
          "metadata": {},
          "execution_count": 152
        }
      ]
    },
    {
      "cell_type": "code",
      "source": [
        "#95% confidence interval-to find population mean of unmarried purchases\n",
        "def conf(mu,n,conf):\n",
        "  print('sample mean:',mu)\n",
        "  std_sample=unmarried_samp.std()#sample standard deviation\n",
        "  #since we know sample std_dev= population std_dev (for n>=30)\n",
        "  print('population standard deviation:',std_sample)\n",
        "  std_pop=std_sample\n",
        "  std_err=std_pop/np.sqrt(n)\n",
        "  print('standard error:',std_err)\n",
        "  slice=(1-conf/100)/2\n",
        "  z1=norm.ppf(slice)\n",
        "  z2=norm.ppf(1-slice)\n",
        "  print('z1:',z1,'z2:',z2)\n",
        "  #calucating the population mean within 95% interval\n",
        "  x1=z1*std_err+mu\n",
        "  x2=z2*std_err+mu\n",
        "  print('Population mean lies between:',[x1,x2])\n",
        "conf(mu_unmarried,n=500,conf=95)"
      ],
      "metadata": {
        "colab": {
          "base_uri": "https://localhost:8080/",
          "height": 0
        },
        "id": "5UJEAxnpp5rW",
        "outputId": "1f9a6edb-afb9-4a4d-96ee-15cffe3aaf01"
      },
      "execution_count": 153,
      "outputs": [
        {
          "output_type": "stream",
          "name": "stdout",
          "text": [
            "sample mean: 9262.998587600001\n",
            "population standard deviation: 222.89721047672788\n",
            "standard error: 9.968266292420836\n",
            "z1: -1.959963984540054 z2: 1.959963984540054\n",
            "Population mean lies between: [9243.461144678551, 9282.53603052145]\n"
          ]
        }
      ]
    },
    {
      "cell_type": "code",
      "source": [
        "#99% confidence interval-to find population mean of unmarried purchases\n",
        "def conf(mu,n,conf):\n",
        "  print('sample mean:',mu)\n",
        "  std_sample=unmarried_samp.std()#sample standard deviation\n",
        "  #since we know sample std_dev= population std_dev (for n>=30)\n",
        "  print('population standard deviation:',std_sample)\n",
        "  std_pop=std_sample\n",
        "  std_err=std_pop/np.sqrt(n)\n",
        "  print('standard error:',std_err)\n",
        "  slice=(1-conf/100)/2\n",
        "  z1=norm.ppf(slice)\n",
        "  z2=norm.ppf(1-slice)\n",
        "  print('z1:',z1,'z2:',z2)\n",
        "  #calucating the population mean within 99% interval\n",
        "  x1=z1*std_err+mu\n",
        "  x2=z2*std_err+mu\n",
        "  print('Population mean lies between:',[x1,x2])\n",
        "conf(mu_unmarried,n=500,conf=99)"
      ],
      "metadata": {
        "colab": {
          "base_uri": "https://localhost:8080/",
          "height": 0
        },
        "id": "kNdcNf0mq_Ka",
        "outputId": "76252fff-3cfb-455b-f1d9-88602a9d72fe"
      },
      "execution_count": 154,
      "outputs": [
        {
          "output_type": "stream",
          "name": "stdout",
          "text": [
            "sample mean: 9262.998587600001\n",
            "population standard deviation: 222.89721047672788\n",
            "standard error: 9.968266292420836\n",
            "z1: -2.5758293035489004 z2: 2.5758293035489004\n",
            "Population mean lies between: [9237.322035178404, 9288.675140021598]\n"
          ]
        }
      ]
    },
    {
      "cell_type": "markdown",
      "source": [
        "***so from above we can see that population mean of unmarried purchases fall aroud 9200 to 9300"
      ],
      "metadata": {
        "id": "em3yp8er22Az"
      }
    },
    {
      "cell_type": "markdown",
      "source": [
        "**Thus,the population mean of unmarried and married people purchase fall around 9,200 to 9,300"
      ],
      "metadata": {
        "id": "p-rC95RP25Fq"
      }
    },
    {
      "cell_type": "markdown",
      "source": [
        "#Analysing the Age category"
      ],
      "metadata": {
        "id": "Qtn6-zMh4HDU"
      }
    },
    {
      "cell_type": "code",
      "source": [
        "df.groupby('Age')['Purchase'].sum().sort_values(ascending=False)"
      ],
      "metadata": {
        "colab": {
          "base_uri": "https://localhost:8080/",
          "height": 0
        },
        "id": "Pz2-dHYW24a8",
        "outputId": "6c454dd4-749a-47a9-a1b7-3cb1157cb7ad"
      },
      "execution_count": 132,
      "outputs": [
        {
          "output_type": "execute_result",
          "data": {
            "text/plain": [
              "Age\n",
              "26-35    2031770578\n",
              "36-45    1026569884\n",
              "18-25     913848675\n",
              "46-50     420843403\n",
              "51-55     367099644\n",
              "55+       200767375\n",
              "0-17      134913183\n",
              "Name: Purchase, dtype: int64"
            ]
          },
          "metadata": {},
          "execution_count": 132
        }
      ]
    },
    {
      "cell_type": "markdown",
      "source": [
        "**0-17 age purchase"
      ],
      "metadata": {
        "id": "w1LVUivN8wIv"
      }
    },
    {
      "cell_type": "code",
      "source": [
        "young=df[df['Age']=='0-17']['Purchase']\n",
        "#Taking sample of 500 age(0-17) purchases\n",
        "young_samp=np.array([young.sample(500).mean() for i in range(10000)])\n",
        "young_samp.mean()"
      ],
      "metadata": {
        "colab": {
          "base_uri": "https://localhost:8080/",
          "height": 0
        },
        "id": "479f9EZM6j8A",
        "outputId": "122a9b70-d923-4a07-f955-f77115d4d52a"
      },
      "execution_count": 161,
      "outputs": [
        {
          "output_type": "execute_result",
          "data": {
            "text/plain": [
              "8934.0590002"
            ]
          },
          "metadata": {},
          "execution_count": 161
        }
      ]
    },
    {
      "cell_type": "code",
      "source": [
        "#95% confidence interval-to find population mean of age(0-17) purchases\n",
        "def conf(mu,n,conf):\n",
        "  print('sample mean:',mu)\n",
        "  std_sample=young_samp.std()#sample standard deviation\n",
        "  #since we know sample std_dev= population std_dev (for n>=30)\n",
        "  print('population standard deviation:',std_sample)\n",
        "  std_pop=std_sample\n",
        "  std_err=std_pop/np.sqrt(n)\n",
        "  print('standard error:',std_err)\n",
        "  slice=(1-conf/100)/2\n",
        "  z1=norm.ppf(slice)\n",
        "  z2=norm.ppf(1-slice)\n",
        "  print('z1:',z1,'z2:',z2)\n",
        "  #calucating the population mean within 95% interval\n",
        "  x1=z1*std_err+mu\n",
        "  x2=z2*std_err+mu\n",
        "  print('Population mean lies between:',[x1,x2])\n",
        "conf(mu=young_samp.mean(),n=500,conf=95)"
      ],
      "metadata": {
        "colab": {
          "base_uri": "https://localhost:8080/",
          "height": 0
        },
        "id": "s3oMrH9W8q-V",
        "outputId": "2be9b04c-fe95-4e98-df90-d24ac773f7d6"
      },
      "execution_count": 162,
      "outputs": [
        {
          "output_type": "stream",
          "name": "stdout",
          "text": [
            "sample mean: 8934.0590002\n",
            "population standard deviation: 225.30699584495818\n",
            "standard error: 10.076035170311783\n",
            "z1: -1.959963984540054 z2: 1.959963984540054\n",
            "Population mean lies between: [8914.31033415923, 8953.807666240771]\n"
          ]
        }
      ]
    },
    {
      "cell_type": "markdown",
      "source": [
        "**18-25 age purchase"
      ],
      "metadata": {
        "id": "nBRLL_0wDVh6"
      }
    },
    {
      "cell_type": "code",
      "source": [
        "adult=df[df['Age']=='18-25']['Purchase']\n",
        "#Taking sample of 500 age(18-25) purchases\n",
        "adult_samp=np.array([adult.sample(500).mean() for i in range(10000)])\n",
        "adult_samp.mean()"
      ],
      "metadata": {
        "colab": {
          "base_uri": "https://localhost:8080/",
          "height": 0
        },
        "id": "ZpwpSBUZDOHf",
        "outputId": "03c79750-8258-4340-da2f-533621eb9b16"
      },
      "execution_count": 163,
      "outputs": [
        {
          "output_type": "execute_result",
          "data": {
            "text/plain": [
              "9167.0240258"
            ]
          },
          "metadata": {},
          "execution_count": 163
        }
      ]
    },
    {
      "cell_type": "code",
      "source": [
        "#95% confidence interval-to find population mean of age(18-25) purchases\n",
        "def conf(mu,n,conf):\n",
        "  print('sample mean:',mu)\n",
        "  std_sample=adult_samp.std()#sample standard deviation\n",
        "  #since we know sample std_dev= population std_dev (for n>=30)\n",
        "  print('population standard deviation:',std_sample)\n",
        "  std_pop=std_sample\n",
        "  std_err=std_pop/np.sqrt(n)\n",
        "  print('standard error:',std_err)\n",
        "  slice=(1-conf/100)/2\n",
        "  z1=norm.ppf(slice)\n",
        "  z2=norm.ppf(1-slice)\n",
        "  print('z1:',z1,'z2:',z2)\n",
        "  #calucating the population mean within 95% interval\n",
        "  x1=z1*std_err+mu\n",
        "  x2=z2*std_err+mu\n",
        "  print('Population mean lies between:',[x1,x2])\n",
        "conf(mu=adult_samp.mean(),n=500,conf=95)"
      ],
      "metadata": {
        "colab": {
          "base_uri": "https://localhost:8080/",
          "height": 0
        },
        "id": "ZNbLux5wHTtW",
        "outputId": "56a8135e-abc3-4a64-fb60-1ccb78466693"
      },
      "execution_count": 164,
      "outputs": [
        {
          "output_type": "stream",
          "name": "stdout",
          "text": [
            "sample mean: 9167.0240258\n",
            "population standard deviation: 223.75249514418678\n",
            "standard error: 10.006515785551864\n",
            "z1: -1.959963984540054 z2: 1.959963984540054\n",
            "Population mean lies between: [9147.411615249586, 9186.636436350413]\n"
          ]
        }
      ]
    },
    {
      "cell_type": "markdown",
      "source": [
        "**26-35 age purchase"
      ],
      "metadata": {
        "id": "opA0oQ_BH0p1"
      }
    },
    {
      "cell_type": "code",
      "source": [
        "youth=df[df['Age']=='18-25']['Purchase']\n",
        "#Taking sample of 500 age(26-35) purchases\n",
        "youth_samp=np.array([youth.sample(500).mean() for i in range(10000)])\n",
        "youth_samp.mean()"
      ],
      "metadata": {
        "colab": {
          "base_uri": "https://localhost:8080/",
          "height": 0
        },
        "id": "Q8ltUtCNH4Yu",
        "outputId": "dd308dfa-7794-449b-d7e5-49406622fb6d"
      },
      "execution_count": 174,
      "outputs": [
        {
          "output_type": "execute_result",
          "data": {
            "text/plain": [
              "9167.037432599998"
            ]
          },
          "metadata": {},
          "execution_count": 174
        }
      ]
    },
    {
      "cell_type": "code",
      "source": [
        "#95% confidence interval-to find population mean of age(26-35) purchases\n",
        "def conf(mu,n,conf):\n",
        "  print('sample mean:',mu)\n",
        "  std_sample=youth_samp.std()#sample standard deviation\n",
        "  #since we know sample std_dev= population std_dev (for n>=30)\n",
        "  print('population standard deviation:',std_sample)\n",
        "  std_pop=std_sample\n",
        "  std_err=std_pop/np.sqrt(n)\n",
        "  print('standard error:',std_err)\n",
        "  slice=(1-conf/100)/2\n",
        "  z1=norm.ppf(slice)\n",
        "  z2=norm.ppf(1-slice)\n",
        "  print('z1:',z1,'z2:',z2)\n",
        "  #calucating the population mean within 95% interval\n",
        "  x1=z1*std_err+mu\n",
        "  x2=z2*std_err+mu\n",
        "  print('Population mean lies between:',[x1,x2])\n",
        "conf(mu=youth_samp.mean(),n=500,conf=95)"
      ],
      "metadata": {
        "colab": {
          "base_uri": "https://localhost:8080/",
          "height": 0
        },
        "id": "epVbsDdxIF7y",
        "outputId": "d129d2eb-3ca8-4d7d-e888-5f3d790667fb"
      },
      "execution_count": 166,
      "outputs": [
        {
          "output_type": "stream",
          "name": "stdout",
          "text": [
            "sample mean: 9171.599387400001\n",
            "population standard deviation: 223.68084075833656\n",
            "standard error: 10.003311303998922\n",
            "z1: -1.959963984540054 z2: 1.959963984540054\n",
            "Population mean lies between: [9151.993257518021, 9191.205517281982]\n"
          ]
        }
      ]
    },
    {
      "cell_type": "markdown",
      "source": [
        "**36-45 age purchase"
      ],
      "metadata": {
        "id": "_i2Tk4U-IqjP"
      }
    },
    {
      "cell_type": "code",
      "source": [
        "middle_age=df[df['Age']=='18-25']['Purchase']\n",
        "#Taking sample of 500 age(18-25) purchases\n",
        "middle_age_samp=np.array([middle_age.sample(500).mean() for i in range(10000)])\n",
        "middle_age_samp.mean()"
      ],
      "metadata": {
        "colab": {
          "base_uri": "https://localhost:8080/",
          "height": 0
        },
        "id": "fe06zvNjIyXL",
        "outputId": "0c2a612d-f858-437e-d67c-34e973af3990"
      },
      "execution_count": 167,
      "outputs": [
        {
          "output_type": "execute_result",
          "data": {
            "text/plain": [
              "9168.1348756"
            ]
          },
          "metadata": {},
          "execution_count": 167
        }
      ]
    },
    {
      "cell_type": "code",
      "source": [
        "#95% confidence interval-to find population mean of age(36-45) purchases\n",
        "def conf(mu,n,conf):\n",
        "  print('sample mean:',mu)\n",
        "  std_sample=middle_age_samp.std()#sample standard deviation\n",
        "  #since we know sample std_dev= population std_dev (for n>=30)\n",
        "  print('population standard deviation:',std_sample)\n",
        "  std_pop=std_sample\n",
        "  std_err=std_pop/np.sqrt(n)\n",
        "  print('standard error:',std_err)\n",
        "  slice=(1-conf/100)/2\n",
        "  z1=norm.ppf(slice)\n",
        "  z2=norm.ppf(1-slice)\n",
        "  print('z1:',z1,'z2:',z2)\n",
        "  #calucating the population mean within 95% interval\n",
        "  x1=z1*std_err+mu\n",
        "  x2=z2*std_err+mu\n",
        "  print('Population mean lies between:',[x1,x2])\n",
        "conf(mu=middle_age_samp.mean(),n=500,conf=95)"
      ],
      "metadata": {
        "colab": {
          "base_uri": "https://localhost:8080/",
          "height": 0
        },
        "id": "Cpc5WvA5I_2n",
        "outputId": "46b326e5-271a-48ad-bab3-c8442c8b349c"
      },
      "execution_count": 168,
      "outputs": [
        {
          "output_type": "stream",
          "name": "stdout",
          "text": [
            "sample mean: 9168.1348756\n",
            "population standard deviation: 225.59996626340822\n",
            "standard error: 10.089137205732799\n",
            "z1: -1.959963984540054 z2: 1.959963984540054\n",
            "Population mean lies between: [9148.360530041682, 9187.90922115832]\n"
          ]
        }
      ]
    },
    {
      "cell_type": "markdown",
      "source": [
        "**46-50 age"
      ],
      "metadata": {
        "id": "H7Fn21liIwQT"
      }
    },
    {
      "cell_type": "code",
      "source": [
        "old_age=df[df['Age']=='46-50']['Purchase']\n",
        "#Taking sample of 500 age(46-50) purchases\n",
        "old_age_samp=np.array([old_age.sample(500).mean() for i in range(10000)])\n",
        "old_age_samp.mean()"
      ],
      "metadata": {
        "colab": {
          "base_uri": "https://localhost:8080/",
          "height": 0
        },
        "id": "4M5llEGoJooK",
        "outputId": "999cab3d-15d3-4a67-853d-0949fdb906b7"
      },
      "execution_count": 170,
      "outputs": [
        {
          "output_type": "execute_result",
          "data": {
            "text/plain": [
              "9210.4497996"
            ]
          },
          "metadata": {},
          "execution_count": 170
        }
      ]
    },
    {
      "cell_type": "code",
      "source": [
        "#95% confidence interval-to find population mean of age(46-50) purchases\n",
        "def conf(mu,n,conf):\n",
        "  print('sample mean:',mu)\n",
        "  std_sample=old_age_samp.std()#sample standard deviation\n",
        "  #since we know sample std_dev= population std_dev (for n>=30)\n",
        "  print('population standard deviation:',std_sample)\n",
        "  std_pop=std_sample\n",
        "  std_err=std_pop/np.sqrt(n)\n",
        "  print('standard error:',std_err)\n",
        "  slice=(1-conf/100)/2\n",
        "  z1=norm.ppf(slice)\n",
        "  z2=norm.ppf(1-slice)\n",
        "  print('z1:',z1,'z2:',z2)\n",
        "  #calucating the population mean within 95% interval\n",
        "  x1=z1*std_err+mu\n",
        "  x2=z2*std_err+mu\n",
        "  print('Population mean lies between:',[x1,x2])\n",
        "conf(mu=old_age_samp.mean(),n=500,conf=95)"
      ],
      "metadata": {
        "colab": {
          "base_uri": "https://localhost:8080/",
          "height": 0
        },
        "id": "Qk2g1VWqJ8T7",
        "outputId": "56e08126-6fa0-4b39-f4fc-ebd96c62164e"
      },
      "execution_count": 171,
      "outputs": [
        {
          "output_type": "stream",
          "name": "stdout",
          "text": [
            "sample mean: 9210.4497996\n",
            "population standard deviation: 220.66330302464306\n",
            "standard error: 9.868362914054735\n",
            "z1: -1.959963984540054 z2: 1.959963984540054\n",
            "Population mean lies between: [9191.108163702082, 9229.791435497917]\n"
          ]
        }
      ]
    },
    {
      "cell_type": "markdown",
      "source": [
        "**Thus the age group of all categories of purchase falls around 9000"
      ],
      "metadata": {
        "id": "G5fi0n5hK1vP"
      }
    },
    {
      "cell_type": "markdown",
      "source": [
        "# Insights"
      ],
      "metadata": {
        "id": "PQDPRTmsMcxn"
      }
    },
    {
      "cell_type": "markdown",
      "source": [
        "---Gender: Similar spending between males and females suggests no significant gender-based differences. Walmart can use more inclusive marketing strategies that appeal to a broader audience.\n",
        "\n",
        "---Marital Status: Comparable spending for married and unmarried individuals indicates that marital status might not strongly influence purchasing behavior. Walmart can focus on universal offerings.\n",
        "\n",
        "---Age Categories: Uniform spending across age groups implies that Walmart's products resonate across generations. Prioritizing cross-generational products can maintain broad appeal."
      ],
      "metadata": {
        "id": "hSoWww0dOHzO"
      }
    },
    {
      "cell_type": "code",
      "source": [],
      "metadata": {
        "id": "jGRhE4FCR9JY"
      },
      "execution_count": null,
      "outputs": []
    },
    {
      "cell_type": "markdown",
      "source": [
        "#Recommendations"
      ],
      "metadata": {
        "id": "pUf1nXVgPbHb"
      }
    },
    {
      "cell_type": "markdown",
      "source": [
        "---Versatile Products: Emphasize products with broad appeal, avoiding over-segmentation based on gender, marital status, or age.\n",
        "\n",
        "---Personalized Experience: Utilize customer data for personalized recommendations and promotions to cater to individual preferences.\n",
        "\n",
        "---Feedback Utilization: Integrate customer feedback to fine-tune offerings and enhance service quality.\n",
        "\n",
        "---Cross-Generational Focus: Develop products that bridge generation gaps, appealing to a wider audience.\n",
        "\n",
        "---Value-Centric Promotions: Design promotions centered around practical benefits for all customer segments."
      ],
      "metadata": {
        "id": "w-NSmwyPPdQI"
      }
    }
  ]
}